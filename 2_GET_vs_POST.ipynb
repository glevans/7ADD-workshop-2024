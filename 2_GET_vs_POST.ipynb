{
  "cells": [
    {
      "cell_type": "markdown",
      "metadata": {
        "id": "view-in-github",
        "colab_type": "text"
      },
      "source": [
        "<a href=\"https://colab.research.google.com/github/glevans/7ADD-workshop-2024/blob/main/2_GET_vs_POST.ipynb\" target=\"_parent\"><img src=\"https://colab.research.google.com/assets/colab-badge.svg\" alt=\"Open In Colab\"/></a>"
      ]
    },
    {
      "cell_type": "markdown",
      "metadata": {
        "id": "hpa6q8TI6Uik"
      },
      "source": [
        "#**Leveraging the power of PDBe's APIs**\n",
        "<img src=\"https://github.com/glevans/7ADD-workshop-2024/blob/main/Images/API_image.png?raw=true\" height=\"120\" align=\"right\">\n",
        "\n",
        "Welcome to this notebook!\n",
        "\n",
        "To use this notebook in Colab (link at top of the page):\n",
        "\n",
        "*   you will need to have a Google account\n",
        "*   be logged in to Google Colab (by being logged into Google account)\n",
        "\n",
        "<br>\n",
        "\n",
        "You can also download this notebook and view it *via* a local installation of [Jupyter](https://jupyter.org/) (*i.e.* latest Jupyterlab or original Juptyer Notebook) or a browser instance of [JupyterLab](https://jupyter.org/try-jupyter/lab/).\n",
        "\n",
        "<br>\n",
        "\n",
        "---\n",
        "\n",
        "This interactive Python notebook is part of a series that will guide you through various ways of programmatically accessing Protein Data Bank in Europe (PDBe) data using APIs.\n",
        "\n",
        "<img src=\"https://www.ebi.ac.uk/pdbe/docs_dev/logos/images/RGB/PDBe-logo-RGB_2013.png\" height=\"300\" align=\"right\">\n",
        "\n",
        "\n",
        "The REST API is a programmatic way to obtain information from the PDB and EMDB.\n",
        "\n",
        "You can access details about:\n",
        "\n",
        "* sample\n",
        "* experiment\n",
        "* models\n",
        "* compounds\n",
        "* cross-references\n",
        "* publications\n",
        "* quality\n",
        "* assemblies\n",
        "* and more...\n",
        "\n",
        "For more information, visit http://www.ebi.ac.uk/pdbe/pdbe-rest-api\n",
        "\n",
        "<br>\n",
        "\n",
        "---\n",
        "\n",
        "  ## How to use this notebook <a name=\"Quick Start\"></a>\n",
        "1. To run a code cell, click on the cell to select it. You will notice a play button (▶️) on the left side of the cell. Click on the play button or press Shift+Enter to run the code in the selected cell.\n",
        "2. The code will start executing, and you will see the output, if any, displayed below the code cell.\n",
        "3. Move to the next code cell and repeat steps 2 and 3 until you have executed all the desired code cells in sequence.\n",
        "4. The currently running step is indicated by a circle with a stop sign next to it.\n",
        "If you need to stop or interrupt the execution of a code cell, you can click on the stop button (■) located next to the play button.\n",
        "\n",
        "*Remember to run the code cells in the correct order, as their execution might depend on variables or functions defined in previous cells. You can modify the code in a code cell and re-run it to see updated results.*\n",
        "\n",
        "<br>\n",
        "\n",
        "---\n",
        "\n",
        "## Contact us\n",
        "\n",
        "If you experience any bugs please contact pdbehelp@ebi.ac.uk and put \"Help with\" and the title of the notebook in the subject line of the message.\n",
        "\n"
      ]
    },
    {
      "cell_type": "markdown",
      "metadata": {
        "id": "SHsmobMO6Uio"
      },
      "source": [
        "# Notebook #2\n",
        "\n",
        "This notebook is the second in the training material series. It aims to lay down the foundation for understanding how users can interact with the PDBe REST API using Python3."
      ]
    },
    {
      "cell_type": "markdown",
      "metadata": {
        "id": "JsY4CtAp6Uip"
      },
      "source": [
        "## 1) Making imports and setting variables\n",
        "\n",
        "First, we import some packages that we will use, and set some variables.\n",
        "\n",
        "We will be using Python packages / modules:\n",
        "\n",
        "*   [re](https://https://docs.python.org/3/library/re.html) - allows use of regular expression matching operations similar to those found in Perl.\n",
        "*   [requests](https://docs.python.org/3/library/re.html) - allows you to send HTTP/1.1 requests extremely easily.\n",
        "*   [pprint](https://docs.python.org/3/library/pprint.html) - makes data look more readable / pretty\n",
        "*   [csv](https://docs.python.org/3/library/csv.html) - enables csv file input and output\n",
        "\n",
        "\n",
        "<br>\n",
        "\n",
        "\n",
        "\n",
        "---\n",
        "\n",
        "\n",
        "\n",
        "*FURTHER INFORMATION:*\n",
        "\n",
        "Full list of valid PDBe API URLs / API endpoints is available from http://www.ebi.ac.uk/pdbe/api/doc/\n"
      ]
    },
    {
      "cell_type": "code",
      "execution_count": 1,
      "metadata": {
        "id": "3bsr3fcQ6Uiq"
      },
      "outputs": [],
      "source": [
        "# Importing Python packages / modules\n",
        "import re\n",
        "import requests\n",
        "import pprint\n",
        "import csv\n",
        "\n",
        "# Defining variables to describe API urls\n",
        "base_url = \"https://www.ebi.ac.uk/pdbe/\"\n",
        "\n",
        "api_base = base_url + \"api/\"\n",
        "\n",
        "summary_url = api_base + \"pdb/entry/summary/\"\n",
        "\n",
        "# We have defined a variable called summary_url with the following value:\n",
        "#### https://www.ebi.ac.uk/pdbe/api/pdb/entry/summary/\n",
        "\n",
        "experiment_url = api_base + \"pdb/entry/experiment/\"\n",
        "\n",
        "# We have defined a variable called experiment_url with the following value:\n",
        "#### https://www.ebi.ac.uk/pdbe/api/pdb/entry/experiment/\n",
        "\n",
        "ligands_url = api_base + \"pdb/entry/ligand_monomers/\"\n",
        "\n",
        "# We have defined a variable called ligand_monomers_url with the following value:\n",
        "#### https://www.ebi.ac.uk/pdbe/api/pdb/entry/ligand_monomers/\n",
        "\n",
        "compound_summaries_url = api_base + \"pdb/compound/summary/\"\n",
        "\n",
        "# We have defined a variable called compound_summaries_url with the following value:\n",
        "#### https://www.ebi.ac.uk/pdbe/api/pdb/compound/summary/"
      ]
    },
    {
      "cell_type": "markdown",
      "metadata": {
        "id": "YUr0YbA16Uis"
      },
      "source": [
        "## 2) Useful functions\n",
        "\n",
        "We will start with some simple Python code to enhance the usefulness of PDBe's APIs."
      ]
    },
    {
      "cell_type": "markdown",
      "metadata": {
        "id": "M39jOgM36Ui5"
      },
      "source": [
        "### 2.1) The get_entry_info() function\n",
        "\n",
        "This function pulls out the information subset from an information block for a single PDB id."
      ]
    },
    {
      "cell_type": "code",
      "execution_count": 2,
      "metadata": {
        "id": "yU2mNNJY6Ui5"
      },
      "outputs": [],
      "source": [
        "# The below function called 'get_entry_info' does two things:\n",
        "# --> Checks if PDB id is listed in the information.\n",
        "# --> If PDB id is listed, returns the information for this id.\n",
        "# --> Information is output if available in the form of a dictionary.\n",
        "\n",
        "def get_entry_info(pdb_id, input_information):\n",
        "    try:\n",
        "        output_for_entry_as_list = (input_information[pdb_id])\n",
        "        output_for_entry_as_dict = {}\n",
        "        for item in output_for_entry_as_list:\n",
        "            output_for_entry_as_dict.update(item)\n",
        "        return output_for_entry_as_dict\n",
        "    except KeyError as error:\n",
        "        error_message1 = \"PDB id is NOT present\"\n",
        "        return print(error_message1)"
      ]
    },
    {
      "cell_type": "markdown",
      "source": [
        "### 2.2) Functions for doing PDBe API calls.\n",
        "\n",
        "The following functions are for doing PDBe API calls.\n",
        "\n",
        "The **make_GET_request** is useful when quering for information on a single PDB id.\n",
        "\n",
        "The **make_POST_request** needs to be used for list of PDB ids.\n",
        "\n",
        "With both of these functions we have added checks that the PDB id or PDB id list input is appropriately formatted. These functions also report success, failure or errors.\n",
        "\n",
        "<br>\n",
        "\n",
        "It is useful to be aware when using APIs that there are some requests that should use [GET](https://en.wikipedia.org/wiki/HTTP#Request_methods) calls and others that should use [POST](https://en.wikipedia.org/wiki/POST_(HTTP)) calls.\n",
        "\n",
        "In general, one should first consider using a **GET** call.\n",
        "\n",
        "If a **GET** call will not get the appropriate information, one should consider **POST** call options."
      ],
      "metadata": {
        "id": "H0Rlv_cropvO"
      }
    },
    {
      "cell_type": "code",
      "source": [
        "# This function will make a GET call to the PDBe API.\n",
        "# This function will use a PDB id and API url provided as arguments.\n",
        "\n",
        "def make_GET_request(pdb_id, api_url):\n",
        "    # Checking the PDB id is formatted correctly\n",
        "    if len(pdb_id) == 4:\n",
        "        pdb_id = pdb_id\n",
        "    else:\n",
        "        error_message1 = \"Invalid PDB ID\"\n",
        "        return print(error_message1)\n",
        "    if not re.match(\"[0-9][A-Za-z][A-Za-z0-9]{2}\", pdb_id):\n",
        "        error_message1 = \"Invalid PDB ID\"\n",
        "        return print(error_message1)\n",
        "\n",
        "    # Reporting input contents after checking formatting\n",
        "    print(\"Input - PDB id: \" + pdb_id)\n",
        "\n",
        "    # Making a GET call to the API URL\n",
        "    get_response = requests.get(url=api_url+pdb_id)\n",
        "\n",
        "    # If there is data returned (with HTML status code 200)\n",
        "    # then return the data in JSON format\n",
        "    if get_response.status_code == 200:\n",
        "        print(\"Data retrieved\")\n",
        "        return get_response.json()\n",
        "    # If there is no data, print status code and response\n",
        "    else:\n",
        "        print(\"No data retrieved - \" + get_response.status_code, get_response.text)\n",
        "    return\n",
        "\n",
        "# This function checks and cleans the list of PDB ids.\n",
        "# This function makes sure the PDB id list is in the correct format\n",
        "\n",
        "def clean_pdb_id_list(pdb_id_list):\n",
        "    # If input is PDB id list in string format converts to a Python list\n",
        "    if type(pdb_id_list) == str:\n",
        "          if pdb_id_list.count(\", \") >= 1:\n",
        "              pdb_id_list_input = pdb_id_list.split(\", \")\n",
        "          elif pdb_id_list.count(\",\") >= 1:\n",
        "              pdb_id_list_input = pdb_id_list.split(\",\")\n",
        "          else:\n",
        "              pdb_id_list_input = pdb_id_list\n",
        "    else:\n",
        "          pdb_id_list_input = pdb_id_list\n",
        "\n",
        "    # Making sure the PDB id list is formatted as Python list\n",
        "    if type(pdb_id_list_input) != list:\n",
        "        error_message1 = \"Invalid List\"\n",
        "        return print(error_message1)\n",
        "\n",
        "    # Checking the PDB ids are correctly structured\n",
        "    # The below removes any items from list that do not match PDB id format\n",
        "    clean_pdb_id_list = []\n",
        "    for pdb_id in pdb_id_list_input:\n",
        "        if len(pdb_id) != 4:\n",
        "            break\n",
        "        elif re.match(\"[0-9][A-Za-z][A-Za-z0-9]{2}\", pdb_id):\n",
        "            clean_pdb_id_list.append(pdb_id)\n",
        "        else:\n",
        "            continue\n",
        "\n",
        "    if clean_pdb_id_list == []:\n",
        "        error_message2 = \"Invalid PDB ID\"\n",
        "        return print(error_message2)\n",
        "\n",
        "    # Converting the Python list into appropriate format for POST call\n",
        "    pdb_list_string = \", \".join(clean_pdb_id_list)\n",
        "    return pdb_list_string\n",
        "\n",
        "# This function will make a POST call to the PDBe API.\n",
        "# This function will use a PDB id list and API url provided as arguments.\n",
        "\n",
        "def make_POST_request(pdb_id_list, api_url):\n",
        "    # Checking the PDB ids and list are formatted correctly\n",
        "    pdb_list_string = clean_pdb_id_list(pdb_id_list)\n",
        "    # Reporting the input after removing any incorrectly formatted\n",
        "    print(\"Input - PDB id: \" + pdb_list_string)\n",
        "\n",
        "    # Making a POST call to the API URL\n",
        "    post_response = requests.post(url=api_url, data=pdb_list_string)\n",
        "\n",
        "    # If there is data returned (with HTML status code 200)\n",
        "    # then return the data in JSON format\n",
        "    if post_response.status_code == 200:\n",
        "        print(\"Data retrieved\")\n",
        "        return post_response.json()\n",
        "    # If there is no data, print status code and response\n",
        "    else:\n",
        "        print(\"No data retrieved - \", post_response.status_code, post_response.text)\n",
        "    return None"
      ],
      "metadata": {
        "id": "zGOVdv9FgqvQ"
      },
      "execution_count": 3,
      "outputs": []
    },
    {
      "cell_type": "markdown",
      "source": [
        "*Examples to test above code*\n",
        "\n",
        "---\n",
        "\n",
        "1.   *For GET call:*\n",
        "\n",
        "     PDB id for mouse cyclooxygenase-2 (COX-2) bound to ibuprofen: 4ph9\n",
        "\n",
        "2.   *For POST call:*\n",
        "\n",
        "      PDB ids for mouse cyclooxygenase-2 (COX-2) bound to ibuprofen: 4ph9, 4rs0, 8et0"
      ],
      "metadata": {
        "id": "zwKXcUU3tbZr"
      }
    },
    {
      "cell_type": "code",
      "source": [
        "my_pdb_id1 = \"4ph9\"\n",
        "my_pdb_id2 = \"abcd\"\n",
        "my_pdb_id_list1 = [\"4ph9\", \"4rs0\", \"8et0\"]\n",
        "my_pdb_id_list2 = \"4ph9,4rs00,8et00\"\n",
        "my_pdb_id_list3 = \"4ph9, 4rs0, 8et0\"\n",
        "\n",
        "get_result1 = make_GET_request(my_pdb_id1, summary_url)\n",
        "#pprint.pprint(get_result1)\n",
        "print()\n",
        "\n",
        "get_result2 = make_GET_request(my_pdb_id2, summary_url)\n",
        "#pprint.pprint(get_result2)\n",
        "print()\n",
        "\n",
        "post_result1 = make_POST_request(my_pdb_id_list1, summary_url)\n",
        "#pprint.pprint(post_result1)\n",
        "print()\n",
        "\n",
        "post_result2 = make_POST_request(my_pdb_id_list2, summary_url)\n",
        "#pprint.pprint(post_result2)\n",
        "\n",
        "print()\n",
        "\n",
        "post_result3 = make_POST_request(my_pdb_id_list3, summary_url)\n",
        "#pprint.pprint(post_result3)"
      ],
      "metadata": {
        "id": "En5z8w6Tta1M"
      },
      "execution_count": null,
      "outputs": []
    },
    {
      "cell_type": "markdown",
      "metadata": {
        "id": "WMlKjVu46Ui0"
      },
      "source": [
        "### 2.3) The get_value() function\n",
        "\n",
        "This function is to help in navigating Python dictionaries.\n",
        "\n",
        "PDBe API calls generally return data in the form that readily can be converted to Python dictionaries, i.e. collections of key and value pairs.\n",
        "\n",
        "<br>\n",
        "\n",
        "More advance options and analysis can be performed by using tools available from other Python packages, such as [pandas](https://pandas.pydata.org/docs/index.html), [NumPy](https://numpy.org/), [Matplotlib](https://matplotlib.org/), and [seaborn](https://seaborn.pydata.org/). We will not cover using these in this notebook these other Python packages in this notebook. These other Python packages enable viewing the type of data you get from APIs in tables and graphs and are powerful for exploring and visualize the data."
      ]
    },
    {
      "cell_type": "code",
      "execution_count": 5,
      "metadata": {
        "id": "SHNQ744d6Ui1"
      },
      "outputs": [],
      "source": [
        "# Getting value using a simple function we have named 'get_value'.\n",
        "# This function gets the value for a key from a dictionary.\n",
        "# The function has two inputs/arguments:\n",
        "#  --> the key\n",
        "#  --> the dictionary/input_information\n",
        "def get_value(key, input_information):\n",
        "    try:\n",
        "        return input_information[key]\n",
        "    except KeyError as error:\n",
        "        error_message1 = \"no value\"\n",
        "        return error_message1"
      ]
    },
    {
      "cell_type": "markdown",
      "metadata": {
        "id": "7R2ceJp56Ui6"
      },
      "source": [
        "### 2.4) The make_entry_summary() function\n",
        "\n",
        "This function can be used to write a brief summary of a PDB entry."
      ]
    },
    {
      "cell_type": "code",
      "execution_count": 6,
      "metadata": {
        "id": "jvyVHDMs6Ui6"
      },
      "outputs": [],
      "source": [
        "# The below functions work to returns the information for this id in a summary format.\n",
        "\n",
        "def make_entry_summary(pdb_id,input_information):\n",
        "    entry_information = get_entry_info(pdb_id,input_information)\n",
        "\n",
        "    # Getting the title of the entry\n",
        "    title = get_value(\"title\", entry_information)\n",
        "\n",
        "    # Getting the release date of the entry\n",
        "    release_date = get_value(\"release_date\", entry_information)\n",
        "    # Formatting the release data to make it more user-friendly\n",
        "    formatted_release_date = \"{}/{}/{}\".format(release_date[:4], release_date[4:6], release_date[6:])\n",
        "\n",
        "    # Getting the experimental methods\n",
        "    # Because there can be multiple methods, so this is a list that\n",
        "    # needs to be iterated\n",
        "    experimental_methods = \"\"\n",
        "    for experimental_method in get_value(\"experimental_method\", entry_information):\n",
        "        if experimental_methods:\n",
        "            experimental_methods += \" and \"\n",
        "        experimental_methods += experimental_method\n",
        "\n",
        "    # Creating the summary text using all the extracted information\n",
        "    summary = (\"Entry is titled \" + title + \" was released on \" + formatted_release_date + \". \")\n",
        "    summary += (\"This entry was determined using \" + experimental_methods + \".\")\n",
        "    return summary"
      ]
    },
    {
      "cell_type": "markdown",
      "source": [
        "*Examples to test above code*\n",
        "\n",
        "---\n",
        "\n",
        "1.   *For GET call:*\n",
        "\n",
        "     PDB id for mouse cyclooxygenase-2 (COX-2) bound to ibuprofen: 4ph9\n",
        "\n",
        "2.   *For POST call:*\n",
        "\n",
        "      PDB ids for mouse cyclooxygenase-2 (COX-2) bound to ibuprofen: 4ph9, 4rs0, 8et0"
      ],
      "metadata": {
        "id": "MGTI7i-qx1k1"
      }
    },
    {
      "cell_type": "code",
      "source": [
        "my_pdb_id = \"4ph9\"\n",
        "my_pdb_id_list = \"4ph9, 4rs0, 8et0\"\n",
        "cleaned_my_pdb_id_list = clean_pdb_id_list(my_pdb_id_list)\n",
        "\n",
        "print(\"Input list: \", my_pdb_id)\n",
        "\n",
        "get_result = make_GET_request(my_pdb_id, summary_url)\n",
        "print()\n",
        "\n",
        "print(\"Input list: \", my_pdb_id_list)\n",
        "print(\"PDB ids (after cleaning)\", cleaned_my_pdb_id_list)\n",
        "\n",
        "post_result = make_POST_request(my_pdb_id_list, summary_url)\n",
        "print()\n",
        "\n",
        "my_summary1 = make_entry_summary(\"4ph9\",get_result)\n",
        "print(my_summary1)\n",
        "print()\n",
        "\n",
        "my_summary2 = make_entry_summary(\"4rs0\",post_result)\n",
        "print(my_summary2)\n",
        "print()\n",
        "\n",
        "my_summary3 = make_entry_summary(\"8et0\",post_result)\n",
        "print(my_summary3)"
      ],
      "metadata": {
        "id": "NakOPGqQx0Ka"
      },
      "execution_count": null,
      "outputs": []
    },
    {
      "cell_type": "markdown",
      "metadata": {
        "id": "c-YZAyTw6Ui7"
      },
      "source": [
        "## 3) Looking at a set of related structures\n",
        "\n",
        "We will use as a starting point the human protein *Coagulation factor XIa light chain* that is the target of a drug currently in clinical trials.\n",
        "\n",
        "<br>\n",
        "Publication:\n",
        "<br>\n",
        "\n",
        "[Design and Preclinical Characterization Program toward Asundexian (BAY 2433334), an Oral Factor XIa Inhibitor for the Prevention and Treatment of Thromboembolic Disorders.](https://europepmc.org/article/MED/37669040)\n",
        "\n",
        "<br>\n",
        "PDBe entry page for the structure of the target with Asundexian bound:\n",
        "<br>\n",
        "\n",
        "[COAGULATION FACTOR XI PROTEASE DOMAIN IN COMPLEX WITH ACTIVE SITE INHIBITOR Asundexian](https://www.ebi.ac.uk/pdbe/entry/pdb/8bo3)\n",
        "\n",
        "<br>\n",
        "\n",
        "----\n",
        "\n",
        "Searching at the [PDBe](https://www.ebi.ac.uk/pdbe/) with the molecular name *Coagulation factor XIa light chain* results in 100+ experimental determined structures for this protein target.\n"
      ]
    },
    {
      "cell_type": "markdown",
      "source": [
        "## 3.1) Generating a PDB id list\n",
        "\n",
        "We have previously run the following code to pull all the PDB ids from the CSV file generated from a search:\n",
        "\n",
        "```\n",
        "with open('PDBe_search.csv', 'r') as file:\n",
        "    reader = csv.reader(file)\n",
        "    column_1 = [(row[0]) for row in reader]\n",
        "\n",
        "new_pdb_id_list = []\n",
        "for row in column_1:\n",
        "    if re.match(\"[0-9][A-Za-z][A-Za-z0-9]{2}\", row):\n",
        "        new_pdb_id_list.append(row)\n",
        "    else:\n",
        "      continue\n",
        "\n",
        "new_pdb_id_list = list(dict.fromkeys(new_pdb_id_list ))\n",
        "\n",
        "print(new_pdb_id_list)\n",
        "```\n",
        "\n",
        "We have run this code and have generated a PDB id list which we have named (stored as a Python object that is a list data-type):\n",
        "<br>\n",
        "**Coagulation_factor_XIa_light_chain_list**\n",
        "\n",
        "If you wish you can un-comment the code in the block below, and run the code cell tomorrow after uploading your own search results.\n"
      ],
      "metadata": {
        "id": "TFGNZpF1LU3y"
      }
    },
    {
      "cell_type": "code",
      "source": [
        "## Block of code to convert PDBe_search.csv to Python list\n",
        "#with open('PDBe_search.csv', 'r') as file:\n",
        "#    reader = csv.reader(file)\n",
        "#    column_1 = [(row[0]) for row in reader]\n",
        "\n",
        "#new_pdb_id_list = []\n",
        "#for row in column_1:\n",
        "#    if re.match(\"[0-9][A-Za-z][A-Za-z0-9]{2}\", row):\n",
        "#        new_pdb_id_list.append(row)\n",
        "#    else:\n",
        "#      continue\n",
        "\n",
        "#new_pdb_id_list = list(dict.fromkeys(new_pdb_id_list ))\n",
        "\n",
        "#new_PDB_id_list = new_pdb_id_list\n",
        "\n",
        "Coagulation_factor_XIa_light_chain_list = ['7qot', '7cj1', '7mbo', '8bo6', '8bo4', '8bo5', '8bo7', '8bo3', '4x6m', '4x6n', '3sor', '3sos', '4x6p', '1zml', '1zrk', '1zpc', '1zsl', '1zhp', '1zpz', '1zjd', '1zhr', '1zsk', '1zlr', '1zom', '1zsj', '1ztl', '1xx9', '2fda', '1xxd', '1zpb', '1zmn', '1zhm', '1xxf', '4y8y', '4y8x', '4y8z', '4x6o', '4wxi', '3bg8', '5qcl', '5qcn', '5q0d', '5exl', '5tku', '5eok', '5qck', '5q0e', '5qtw', '5qtx', '5qty', '5qqp', '5qtv', '5i25', '5q0h', '5tkt', '5tks', '5qtu', '5qqo', '6c0s', '4cre', '4ty6', '4na7', '4na8', '4cra', '4crg', '4ty7', '6aod', '4d7g', '4d7f', '4cr5', '4crb', '4crf', '5e2p', '5q0f', '5exm', '5exn', '5eod', '5qcm', '5wb6', '4cr9', '4d76', '4crd', '4crc', '5qtt', '5e2o', '5q0g', '6i58', '6ts7', '6vlv', '6hhc', '6ts4', '6ts5', '6w50', '6vlu', '6twc', '6twb', '6usy', '6ts6', '6r8x', '2j8l', '1ztk', '1ztj', '1zmj', '7v17', '2j8j', '7v16', '7v15', '7v18', '7v11', '7v0z', '7v12', '7v13', '7v14', '7v10']\n"
      ],
      "metadata": {
        "id": "88MtCYCy1R3I"
      },
      "execution_count": 8,
      "outputs": []
    },
    {
      "cell_type": "markdown",
      "metadata": {
        "id": "ZEglE_vH6Ui8"
      },
      "source": [
        "## 3.2) Getting information on the experimental method and resolution for these entries\n",
        "\n",
        "We have made a simple **get_experimental_summary()** function to pull a subset of information for multiple entries.\n",
        "\n"
      ]
    },
    {
      "cell_type": "code",
      "execution_count": null,
      "metadata": {
        "id": "LCtuwmCu6Ui9"
      },
      "outputs": [],
      "source": [
        "def get_experimental_summary(pdb_id=None, pdb_list=None):\n",
        "    # If neither a single PDB id, nor a list was provided,\n",
        "    # exit the function\n",
        "    if not pdb_id and not pdb_list:\n",
        "        print(\"Either provide one PDB id, or a list of ids\")\n",
        "        return None\n",
        "\n",
        "    if pdb_id:\n",
        "        # If a single PDB id was provided, call the API with GET\n",
        "        data = make_GET_request(pdb_id, experiment_url)\n",
        "    else:\n",
        "        # If multiple PDB ids were provided, call the API with POST\n",
        "        # The POST API call expects PDB ids as a comma-separated lise\n",
        "        pdb_list_string = \", \".join(pdb_list)\n",
        "        data = make_POST_request(pdb_list, experiment_url)\n",
        "\n",
        "    # When no data is returned by the API, exit the function\n",
        "    if not data:\n",
        "        print(\"No data available\")\n",
        "        return None\n",
        "\n",
        "\n",
        "    # Loop through all the PDB entries in the retrieved data\n",
        "    report = \"\\n\"\n",
        "    report += \"Experimental Summary\"\n",
        "    report += \"\\n\"\n",
        "    for entry_id in data.keys():\n",
        "        entry = data[entry_id]\n",
        "        entry_table = entry[0]\n",
        "        experimental_method = entry_table[\"experimental_method\"]\n",
        "        resolution = str(get_value(\"resolution\", entry_table))\n",
        "        report += (entry_id + \": \" + experimental_method + \", Resolution: \" + resolution + \" Angstrom\" + \"\\n\")\n",
        "    print(report)\n",
        "\n",
        "    return None\n",
        "\n",
        "new_summary = get_experimental_summary(pdb_list=Coagulation_factor_XIa_light_chain_list)"
      ]
    },
    {
      "cell_type": "markdown",
      "metadata": {
        "id": "aoSpS_70TqHF"
      },
      "source": [
        "## 3.3) Getting the ligands (that is the CC IDs for the ligands) modelled in these entries\n",
        "\n",
        "We have made a simple **get_molecule_summary()** function to pull a subset of information for multiple entries.\n",
        "\n"
      ]
    },
    {
      "cell_type": "code",
      "execution_count": null,
      "metadata": {
        "id": "N3Lwsa0LTtyl"
      },
      "outputs": [],
      "source": [
        "def get_molecule_summary(pdb_id=None, pdb_list=None):\n",
        "    # If neither a single PDB id, nor a list was provided,\n",
        "    # exit the function\n",
        "    if not pdb_id and not pdb_list:\n",
        "        print(\"Either provide one PDB id, or a list of ids\")\n",
        "        return None\n",
        "\n",
        "    if pdb_id:\n",
        "        # If a single PDB id was provided, call the API with GET\n",
        "        data = make_GET_request(pdb_id,ligands_url)\n",
        "    else:\n",
        "        # If multiple PDB ids were provided, call the API with POST\n",
        "        # The POST API call expects PDB ids as a comma-separated lise\n",
        "        pdb_list_string = \", \".join(pdb_list)\n",
        "        data = make_POST_request(pdb_list,ligands_url)\n",
        "\n",
        "    # When no data is returned by the API, exit the function\n",
        "    if not data:\n",
        "        print(\"No data available\")\n",
        "        return None\n",
        "\n",
        "\n",
        "    # Loop through all the PDB entries in the retrieved data\n",
        "    report = \"\\n\"\n",
        "    report += \"Molecule Summary\"\n",
        "    report += \"\\n\"\n",
        "    chem_comp_list = \"\"\n",
        "    for entry_id in data.keys():\n",
        "        entry = data[entry_id]\n",
        "        for i in range (len(entry)):\n",
        "            entry_table = entry[i]\n",
        "            chem_comp = str(get_value(\"chem_comp_id\", entry_table))\n",
        "            chem_comp_list += (chem_comp + \", \")\n",
        "        # Remove duplicates chem_comp ids\n",
        "        chem_comp_list = chem_comp_list[:-2]\n",
        "        chem_comp_list_Plist =  chem_comp_list.split(sep=\",\")\n",
        "        chem_comp_list_Plist =  list(dict.fromkeys(chem_comp_list_Plist))\n",
        "        chem_comp_list = ','.join(chem_comp_list_Plist)\n",
        "        # Making report\n",
        "        report += (entry_id + \": \" + \"contains \" + chem_comp_list + \"\\n\")\n",
        "        chem_comp_list = \"\"\n",
        "    print(report)\n",
        "\n",
        "    return None\n",
        "\n",
        "new_summary = get_molecule_summary(pdb_list=Coagulation_factor_XIa_light_chain_list)"
      ]
    },
    {
      "cell_type": "markdown",
      "source": [
        "## 3.4) Converting list of CC ids into SMILES strings\n",
        "\n",
        "We can get SMILES string or descriptions for all the ligands present in an entry by using one of the APIs we have for compounds.\n",
        "\n",
        "There is a webpage available for this here:\n",
        "\n",
        "https://www.ebi.ac.uk/pdbe/api/compounds.html\n",
        "\n",
        "<img src=\"https://github.com/glevans/7ADD-workshop-2024/blob/main/Images/REST%20API_PDBe_compound_summaries.png?raw=true\" height=\"300\" align=\"center\">\n",
        "\n"
      ],
      "metadata": {
        "id": "18_9f4ZKvqFU"
      }
    },
    {
      "cell_type": "code",
      "source": [
        "# Making the code\n",
        "def get_SMILES(CC_id_list=None):\n",
        "    # If multiple CC ids were provided, call the API with POST\n",
        "    # The POST API call expects PDB ids as a comma-separated lise\n",
        "    CC_id_list_string = \", \".join(CC_id_list)\n",
        "    print(CC_id_list_string)\n",
        "    data_out = requests.post(url=compound_summaries_url, data=CC_id_list_string)\n",
        "    POST_response = data_out.json()\n",
        "\n",
        "    # Loop through all the PDB entries in the retrieved data\n",
        "    report = \"\\n\"\n",
        "    report += \"SMILES string summary\"\n",
        "    report += \"\\n\"\n",
        "    compound_SMILES_details = \"\"\n",
        "    for CC_id in POST_response.keys():\n",
        "        compound_info = POST_response[CC_id]\n",
        "        compound_details = compound_info[0]\n",
        "        compound_SMILES_info =  compound_details[\"smiles\"]\n",
        "        compound_SMILES_details = compound_SMILES_info[0]\n",
        "        compound_SMILES = compound_SMILES_details[\"name\"]\n",
        "        # Making report\n",
        "        report += (CC_id + \": \" + compound_SMILES + \"\\n\")\n",
        "    compound_SMILES_details = \"\"\n",
        "    print(report)\n",
        "\n",
        "    return None\n",
        "\n",
        "# Running the code\n",
        "pdb_8bo3_summary = get_molecule_summary(pdb_id=\"8bo3\")\n",
        "CC_id_list = [\"QV3, CIT\"]\n",
        "compound_details_list = get_SMILES(CC_id_list=CC_id_list)"
      ],
      "metadata": {
        "id": "-WtPZHkBvp23"
      },
      "execution_count": null,
      "outputs": []
    },
    {
      "cell_type": "markdown",
      "source": [
        "## 4) Summary\n",
        "\n",
        "In this notebook we have coverted information from an API call into a Python object that is a dictionary data-type.\n",
        "\n",
        "We have performed both GET and POST API calls.\n",
        "\n",
        "We have shown some simple summaries that can be generated from these types of API calls\n",
        "\n",
        "<br>\n",
        "\n",
        "We have made 9 Python functions / definitions / methods to help get and navigate the information from PDBe API calls:\n",
        "\n",
        "*   **get_value()**\n",
        "\n",
        "    *- gets the value that corresponds to a key in a dictionary*\n",
        "\n",
        "    *- if the key doesn't exist in a dictionary then it returns error message 'no value'*\n",
        "\n",
        "    *- output is a string*\n",
        "\n",
        "*   **make_GET_request()**\n",
        "\n",
        "    *- will make a GET call to the PDBe API using the PDB id and API url as arguments*\n",
        "\n",
        "    *- if the request is not a PDB id (aka the format is not that of the PDB id), it returns error message 'Invalid PDB id' and 'None'*\n",
        "\n",
        "*   **clean_pdb_id_list()**\n",
        "\n",
        "    *- if the list includes items which are not a PDB id (aka the format is not that of the PDB id), it removes the item from the list*\n",
        "\n",
        "*   **make_POST_request()**\n",
        "\n",
        "    *- will make POST call to the PDBe API using a list of PDB id and API url as arguments*\n",
        "\n",
        "    *- uses **clean_pdb_id_list** function to 'clean' the PDB list anre removes items which are not a PDB id (aka the format is not that of the PDB id)*\n",
        "\n",
        "*   **get_entry_info()**\n",
        "    \n",
        "    *- gets the data from an information block that corresponds to a PDB id*\n",
        "\n",
        "    *- if the PDB id is not the present, it returns error message 'PDB id is not present'*\n",
        "\n",
        "    *- takes output from **get_GET_request** function or **get_POST_request** as input*\n",
        "\n",
        "    *- output is a dictionary*\n",
        "\n",
        "*   **make_entry_summary()**\n",
        "\n",
        "    *- creates a summary for a PDB entry.*\n",
        "\n",
        "    *- takes output from **get_GET_request** function or **get_POST_request** as input*\n",
        "    \n",
        "    *- uses **get_value** function as part of the method*\n",
        "\n",
        "    *- output is a string*\n",
        "\n",
        "*   **make_experimental_summary()**\n",
        "\n",
        "    *- creates an experimental summary for a list of PDB entry (or a single PDB id).*\n",
        "\n",
        "    *- use **make_GET_request** function or **make_POST_request** as part of the method*\n",
        "    \n",
        "    *- uses **get_value** function as part of the method*\n",
        "\n",
        "    *- output is a string*\n",
        "\n",
        "*   **make_molecule_summary()**\n",
        "\n",
        "    *- creates a list of CC ids corresponding to what ligands are bound for a list of PDB entry (or a single PDB id).*\n",
        "\n",
        "    *- use **make_GET_request** function or **make_POST_request** as part of the method*\n",
        "    \n",
        "    *- uses **get_value** function as part of the method*\n",
        "\n",
        "    *- output is a string*\n",
        "\n",
        "*   **get_SMILES()**\n",
        "\n",
        "    *- reports SMILES that correspond to a list of CC IDs.*\n",
        "\n",
        "    *- output is a string*\n",
        "<br>\n"
      ],
      "metadata": {
        "id": "naDYx_L6o4Hy"
      }
    },
    {
      "cell_type": "markdown",
      "metadata": {
        "id": "vaDd3el86Ui9"
      },
      "source": [
        "## This ends the second notebook - please proceed to other notebooks of your interest"
      ]
    },
    {
      "cell_type": "markdown",
      "metadata": {
        "id": "VQLcMuNE6Ui-"
      },
      "source": [
        "Copyright 2024 EMBL - European Bioinformatics Institute\n",
        "\n",
        "Licensed under the Apache License, Version 2.0 (the \"License\"); you may not use this file except in compliance with the License. You may obtain a copy of the License at http://www.apache.org/licenses/LICENSE-2.0\n",
        "\n",
        "Unless required by applicable law or agreed to in writing, software distributed under the License is distributed on an \"AS IS\" BASIS, WITHOUT WARRANTIES OR CONDITIONS OF ANY KIND, either express or implied. See the License for the specific language governing permissions and limitations under the License."
      ]
    }
  ],
  "metadata": {
    "kernelspec": {
      "display_name": "Python 3",
      "language": "python",
      "name": "python3"
    },
    "language_info": {
      "codemirror_mode": {
        "name": "ipython",
        "version": 3
      },
      "file_extension": ".py",
      "mimetype": "text/x-python",
      "name": "python",
      "nbconvert_exporter": "python",
      "pygments_lexer": "ipython3",
      "version": "3.7.0"
    },
    "colab": {
      "provenance": [],
      "include_colab_link": true
    }
  },
  "nbformat": 4,
  "nbformat_minor": 0
}
