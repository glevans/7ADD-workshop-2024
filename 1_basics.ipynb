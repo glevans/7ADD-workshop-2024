{
  "cells": [
    {
      "cell_type": "markdown",
      "metadata": {
        "id": "view-in-github",
        "colab_type": "text"
      },
      "source": [
        "<a href=\"https://colab.research.google.com/github/glevans/7ADD-workshop-2024/blob/main/1_basics.ipynb\" target=\"_parent\"><img src=\"https://colab.research.google.com/assets/colab-badge.svg\" alt=\"Open In Colab\"/></a>"
      ]
    },
    {
      "cell_type": "markdown",
      "metadata": {
        "id": "hpa6q8TI6Uik"
      },
      "source": [
        "#**Accessing experimental structures via PDBe's APIs**\n",
        "\n",
        "<img src=\"https://github.com/paulynamagana/AFDB_notebooks/blob/main/api.png?raw=true\" height=\"100\" align=\"right\">\n",
        "\n",
        "Welcome to this notebook!\n",
        "\n",
        "To use this notebook in Colab, you will need to have a Google account and be logged in to Google Colab.\n",
        "\n",
        "\n",
        "<br>\n",
        "\n",
        "---\n",
        "\n",
        "This interactive Python notebook will guide you through various ways of programmatically accessing Protein Data Bank in Europe (PDBe) data using REST API\n",
        "\n",
        "The REST API is a programmatic way to obtain information from the PDB and EMDB. You can access details about:\n",
        "\n",
        "* sample\n",
        "* experiment\n",
        "* models\n",
        "* compounds\n",
        "* cross-references\n",
        "* publications\n",
        "* quality\n",
        "* assemblies\n",
        "* and more...\n",
        "\n",
        "For more information, visit http://www.ebi.ac.uk/pdbe/pdbe-rest-api\n",
        "\n",
        "<br>\n",
        "\n",
        "---\n",
        "\n",
        "\n",
        "  ## How to use Google Colab <a name=\"Quick Start\"></a>\n",
        "1. To run a code cell, click on the cell to select it. You will notice a play button (▶️) on the left side of the cell. Click on the play button or press Shift+Enter to run the code in the selected cell.\n",
        "2. The code will start executing, and you will see the output, if any, displayed below the code cell.\n",
        "3. Move to the next code cell and repeat steps 2 and 3 until you have executed all the desired code cells in sequence.\n",
        "4. The currently running step is indicated by a circle with a stop sign next to it.\n",
        "If you need to stop or interrupt the execution of a code cell, you can click on the stop button (■) located next to the play button.\n",
        "\n",
        "*Remember to run the code cells in the correct order, as their execution might depend on variables or functions defined in previous cells. You can modify the code in a code cell and re-run it to see updated results.*\n",
        "\n",
        "## Contact us\n",
        "\n",
        "If you experience any bugs please contact pdbehelp@ebi.ac.uk\n",
        "\n"
      ]
    },
    {
      "cell_type": "markdown",
      "metadata": {
        "id": "SHsmobMO6Uio"
      },
      "source": [
        "# Notebook #1\n",
        "\n",
        "This notebook is the first in the training material series. It aims to lay down the foundation for understanding how users can interact with the PDBe REST API using Python3."
      ]
    },
    {
      "cell_type": "markdown",
      "metadata": {
        "id": "JsY4CtAp6Uip"
      },
      "source": [
        "## 1) Making imports and setting variables\n",
        "\n",
        "First, we import some packages that we will use, and set some variables.\n",
        "\n",
        "We will be using python packages / modules:\n",
        "\n",
        "*   [re](https://https://docs.python.org/3/library/re.html) - allows use of regular expression matching operations similar to those found in Perl.\n",
        "*   [requests](https://docs.python.org/3/library/re.html) - allows you to send HTTP/1.1 requests extremely easily.\n",
        "\n",
        "---\n",
        "\n",
        "*FURTHER INFORMATION:*\n",
        "\n",
        "Full list of valid API URLs is available from http://www.ebi.ac.uk/pdbe/api/doc/\n"
      ]
    },
    {
      "cell_type": "code",
      "execution_count": null,
      "metadata": {
        "id": "3bsr3fcQ6Uiq"
      },
      "outputs": [],
      "source": [
        "# importing Python packages / modules\n",
        "import re\n",
        "import requests\n",
        "\n",
        "# Defining variables to describe API urls\n",
        "base_url = \"https://www.ebi.ac.uk/pdbe/\"\n",
        "\n",
        "api_base = base_url + \"api/\"\n",
        "\n",
        "summary_url = api_base + 'pdb/entry/summary/'\n",
        "experiment_url = api_base + 'pdb/entry/experiment/'\n"
      ]
    },
    {
      "cell_type": "markdown",
      "metadata": {
        "id": "YUr0YbA16Uis"
      },
      "source": [
        "## 2) Basic examples\n",
        "\n",
        "We will start with some simple python code to enhance the usefulness of PDBe's api."
      ]
    },
    {
      "cell_type": "markdown",
      "metadata": {
        "id": "WMlKjVu46Ui0"
      },
      "source": [
        "### 2.1) Getting a value for a key from a dictionary\n",
        "\n",
        "Dictionaries are Python data structures with unique keys and corresponding values.\n",
        "\n",
        "PDBe API calls generally return data in the form that readily can be converted to Python dictionaries, i.e. collections of key and value pairs.\n",
        "\n",
        "Getting values from a Python object which is dictionary data type can be done either by directly accessing the value using the key, or by using a simple function, such as below."
      ]
    },
    {
      "cell_type": "code",
      "execution_count": null,
      "metadata": {
        "colab": {
          "base_uri": "https://localhost:8080/"
        },
        "id": "SHNQ744d6Ui1",
        "outputId": "3e34baef-2b2a-4ba3-b23c-7c6f8324ad03"
      },
      "outputs": [
        {
          "output_type": "stream",
          "name": "stdout",
          "text": [
            "Getting value directly: 8cau\n",
            "Getting value directly: Electron Microscopy\n",
            "\n",
            "Getting value using function: 8cau\n",
            "Getting value using function: Electron Microscopy\n"
          ]
        }
      ],
      "source": [
        "# Basic example of a Python dictionary with two keys and two corresponding values.\n",
        "# We are using {} to define that this input is a Python data-type dictionary.\n",
        "\n",
        "simplified_example_information = {\n",
        "    \"pdb_id\": \"8cau\",\n",
        "    \"experimental_method\": \"Electron Microscopy\",\n",
        "}\n",
        "\n",
        "# Getting value directly using key:\n",
        "print(\"Getting value directly: %s\" % simplified_example_information[\"pdb_id\"])\n",
        "print(\"Getting value directly: %s\" % simplified_example_information[\"experimental_method\"])\n",
        "\n",
        "# Getting value using a simple function we have named 'get_value'.\n",
        "# This function needs two inputs.\n",
        "def get_value(key, input_information):\n",
        "    \"\"\"\n",
        "    Gets the value that corresponds to a key in a\n",
        "    dictionary\n",
        "\n",
        "    :param key: String,\n",
        "    :param input_information: Dict\n",
        "    :return: String\n",
        "    \"\"\"\n",
        "    return(input_information[key])\n",
        "\n",
        "print()\n",
        "\n",
        "print(\"Getting value using function: %s\" % get_value(\"pdb_id\", input_information=simplified_example_information))\n",
        "print(\"Getting value using function: %s\" % get_value(\"experimental_method\", input_information=simplified_example_information))\n",
        "\n",
        "# NOTE about the above code:\n",
        "# To generate an output with text, Python arguments and variables together, we are using \"specifiers\", aka special symbols like \"%s\" and \"%d\"."
      ]
    },
    {
      "cell_type": "markdown",
      "metadata": {
        "id": "yPoCESNo6Ui3"
      },
      "source": [
        "### 2.2) Generating summary information\n"
      ]
    },
    {
      "cell_type": "markdown",
      "source": [
        "#### 2.2a) Creating a mock PDBe API output\n",
        "\n",
        "The information block below will serve as an offline example of what an actual PDBe API call would return.\n",
        "\n",
        "The example is the summary query result for the entry \"8C9X\".\n",
        "\n",
        "We will create an object 'example_summary' which is being defined as the Python data type dictionary.\n",
        "\n",
        "---\n",
        "\n",
        "*FURTHER INFORMATION:*\n",
        "\n",
        "The information block below can also be generated using the json file that is available from the URL below:\n",
        "\n",
        "https://www.ebi.ac.uk/pdbe/api/pdb/entry/summary/8cau"
      ],
      "metadata": {
        "id": "B1pttckvP9Z4"
      }
    },
    {
      "cell_type": "code",
      "execution_count": null,
      "metadata": {
        "id": "D6t30rVY6Ui3",
        "colab": {
          "base_uri": "https://localhost:8080/"
        },
        "outputId": "1a9c7cfa-f678-4856-bdb7-cff78470eba6"
      },
      "outputs": [
        {
          "output_type": "stream",
          "name": "stdout",
          "text": [
            "{'8cau': [{'title': 'human alpha7 nicotinic receptor in complex with the C4 nanobody and nicotine', 'processing_site': 'PDBE', 'deposition_site': 'PDBE', 'deposition_date': '20230124', 'release_date': '20231011', 'revision_date': '20231011', 'experimental_method_class': ['em'], 'experimental_method': ['Electron Microscopy'], 'split_entry': [], 'related_structures': [{'resource': 'EMDB', 'accession': 'EMD-16534', 'relationship': 'associated EM volume'}], 'entry_authors': ['Prevost, M.S.', 'Barilone, N.', 'Dejean de la Batie, G.', 'Pons, S.', 'Ayme, G.', 'England, P.', 'Gielen, M.', 'Bontems, F.', 'Pehau-Arnaudet, G.', 'Maskos, U.', 'Lafaye, P.', 'Corringer, P.-J.'], 'number_of_entities': {'water': 0, 'polypeptide': 2, 'dna': 0, 'rna': 0, 'sugar': 0, 'ligand': 2, 'dna/rna': 0, 'other': 0, 'carbohydrate_polymer': 1}, 'assemblies': [{'assembly_id': '1', 'name': 'decamer', 'form': 'hetero', 'preferred': 'true'}]}]}\n",
            "\n",
            "The data type for the object we have defined is <class 'dict'>\n",
            "The keys present in the object we have defined is dict_keys(['8cau'])\n",
            "The number of key-value pairs present in the object we have defined are 1\n"
          ]
        }
      ],
      "source": [
        "# Example below shows a block of information in equivalent format to PDBe API output.\n",
        "# The information is being converted into a Python data-type dictionary.\n",
        "example_summary =  {\n",
        "   \"8cau\":[\n",
        "      {\n",
        "         \"title\":\"human alpha7 nicotinic receptor in complex with the C4 nanobody and nicotine\",\n",
        "         \"processing_site\":\"PDBE\",\n",
        "         \"deposition_site\":\"PDBE\",\n",
        "         \"deposition_date\":\"20230124\",\n",
        "         \"release_date\":\"20231011\",\n",
        "         \"revision_date\":\"20231011\",\n",
        "         \"experimental_method_class\":[\n",
        "            \"em\"\n",
        "         ],\n",
        "         \"experimental_method\":[\n",
        "            \"Electron Microscopy\"\n",
        "         ],\n",
        "         \"split_entry\":[\n",
        "\n",
        "         ],\n",
        "         \"related_structures\":[\n",
        "            {\n",
        "               \"resource\":\"EMDB\",\n",
        "               \"accession\":\"EMD-16534\",\n",
        "               \"relationship\":\"associated EM volume\"\n",
        "            }\n",
        "         ],\n",
        "         \"entry_authors\":[\n",
        "            \"Prevost, M.S.\",\n",
        "            \"Barilone, N.\",\n",
        "            \"Dejean de la Batie, G.\",\n",
        "            \"Pons, S.\",\n",
        "            \"Ayme, G.\",\n",
        "            \"England, P.\",\n",
        "            \"Gielen, M.\",\n",
        "            \"Bontems, F.\",\n",
        "            \"Pehau-Arnaudet, G.\",\n",
        "            \"Maskos, U.\",\n",
        "            \"Lafaye, P.\",\n",
        "            \"Corringer, P.-J.\"\n",
        "         ],\n",
        "         \"number_of_entities\":{\n",
        "            \"water\":0,\n",
        "            \"polypeptide\":2,\n",
        "            \"dna\":0,\n",
        "            \"rna\":0,\n",
        "            \"sugar\":0,\n",
        "            \"ligand\":2,\n",
        "            \"dna/rna\":0,\n",
        "            \"other\":0,\n",
        "            \"carbohydrate_polymer\":1\n",
        "         },\n",
        "         \"assemblies\":[\n",
        "            {\n",
        "               \"assembly_id\":\"1\",\n",
        "               \"name\":\"decamer\",\n",
        "               \"form\":\"hetero\",\n",
        "               \"preferred\":\"true\"\n",
        "            }\n",
        "         ]\n",
        "      }\n",
        "   ]\n",
        "}\n",
        "\n",
        "print(example_summary)\n",
        "\n",
        "print()\n",
        "\n",
        "# Check the object we have made is Python data type dictionary.\n",
        "type_of_obj = type(example_summary)\n",
        "print(\"The data type for the object we have defined is\", type_of_obj)\n",
        "\n",
        "# Report the 'keys' present in the object we have made.\n",
        "keys_in_obj = example_summary.keys()\n",
        "print(\"The keys present in the object we have defined is\", keys_in_obj)\n",
        "\n",
        "# Report the number of 'keys' present in the object we have made.\n",
        "number_of_pairs_in_obj = len(example_summary)\n",
        "print(\"The number of key-value pairs present in the object we have defined are\", number_of_pairs_in_obj)"
      ]
    },
    {
      "cell_type": "markdown",
      "metadata": {
        "id": "qfXKGFWK6Ui4"
      },
      "source": [
        "As you can see, the data from PDBe's APIs is structured as a JSON dictionary, with key and value pairs, **for example: \"experimental method\": \"Electron Microscopy\"**."
      ]
    },
    {
      "cell_type": "markdown",
      "metadata": {
        "id": "M39jOgM36Ui5"
      },
      "source": [
        "#### 2.2b) Getting metadata for a single PDB entry from the mock PDBe API data\n",
        "\n",
        "Now let's try to get summary information for a PDB entry using a simple function!\n",
        "We will use the mock PDBe API data as an example to start."
      ]
    },
    {
      "cell_type": "code",
      "execution_count": null,
      "metadata": {
        "colab": {
          "base_uri": "https://localhost:8080/"
        },
        "id": "yU2mNNJY6Ui5",
        "outputId": "f1459a18-a136-4dea-aae8-94e25984c984"
      },
      "outputs": [
        {
          "output_type": "stream",
          "name": "stdout",
          "text": [
            "Trying with PDB id which is NOT in the information block:\n",
            "Key error: '3bow'\n",
            "None\n",
            "\n",
            "Trying with PDB id which is in the information block:\n",
            "{'title': 'human alpha7 nicotinic receptor in complex with the C4 nanobody and nicotine', 'processing_site': 'PDBE', 'deposition_site': 'PDBE', 'deposition_date': '20230124', 'release_date': '20231011', 'revision_date': '20231011', 'experimental_method_class': ['em'], 'experimental_method': ['Electron Microscopy'], 'split_entry': [], 'related_structures': [{'resource': 'EMDB', 'accession': 'EMD-16534', 'relationship': 'associated EM volume'}], 'entry_authors': ['Prevost, M.S.', 'Barilone, N.', 'Dejean de la Batie, G.', 'Pons, S.', 'Ayme, G.', 'England, P.', 'Gielen, M.', 'Bontems, F.', 'Pehau-Arnaudet, G.', 'Maskos, U.', 'Lafaye, P.', 'Corringer, P.-J.'], 'number_of_entities': {'water': 0, 'polypeptide': 2, 'dna': 0, 'rna': 0, 'sugar': 0, 'ligand': 2, 'dna/rna': 0, 'other': 0, 'carbohydrate_polymer': 1}, 'assemblies': [{'assembly_id': '1', 'name': 'decamer', 'form': 'hetero', 'preferred': 'true'}]}\n",
            "\n",
            "The data type for the object we have defined is <class 'dict'>\n",
            "The keys present in the object we have defined are dict_keys(['title', 'processing_site', 'deposition_site', 'deposition_date', 'release_date', 'revision_date', 'experimental_method_class', 'experimental_method', 'split_entry', 'related_structures', 'entry_authors', 'number_of_entities', 'assemblies'])\n",
            "The number of key-value pairs present in the object we have defined are 13\n"
          ]
        }
      ],
      "source": [
        "# The below function called 'get_entry_info' does two things:\n",
        "# --> Checks if PDB id is listed in the information.\n",
        "# --> If PDB id is listed, returns the information for this id.\n",
        "# --> Information is output if available in the form of a dictionary.\n",
        "\n",
        "def get_entry_info(pdb_id, input_information):\n",
        "    \"\"\"\n",
        "    This function tries to get the data that corresponds to\n",
        "    a PDB id\n",
        "\n",
        "    If the entry id is not found, it print an error message\n",
        "    and returns None\n",
        "\n",
        "    :param pdb_id: String,\n",
        "    :param input_information: Dict\n",
        "    :return: Dict or None\n",
        "    \"\"\"\n",
        "    try:\n",
        "        output_for_entry_as_list = (input_information[pdb_id])\n",
        "        output_for_entry_as_dict = {}\n",
        "        for item in output_for_entry_as_list:\n",
        "            output_for_entry_as_dict.update(item)\n",
        "        return output_for_entry_as_dict\n",
        "    except KeyError as error:\n",
        "        print(\"Key error: %s\" % error)\n",
        "        return None\n",
        "\n",
        "# Try to get PDB entry \"3bow\"\n",
        "print(\"Trying with PDB id which is NOT in the information block:\")\n",
        "PDB_id_3bow_info = get_entry_info(\"3bow\", example_summary)\n",
        "print(PDB_id_3bow_info)\n",
        "\n",
        "print()\n",
        "\n",
        "# Try to get PDB entry \"8cau\"\n",
        "print(\"Trying with PDB id which is in the information block:\")\n",
        "PDB_id_8cau_info = get_entry_info(\"8cau\", example_summary)\n",
        "print(PDB_id_8cau_info)\n",
        "\n",
        "print()\n",
        "\n",
        "# Check the object we have made is Python data type dictionary.\n",
        "type_of_obj = type(PDB_id_8cau_info)\n",
        "print(\"The data type for the object we have defined is\", type_of_obj)\n",
        "\n",
        "# Report the 'keys' present in the object we have made.\n",
        "keys_in_obj = PDB_id_8cau_info.keys()\n",
        "print(\"The keys present in the object we have defined are\", keys_in_obj)\n",
        "\n",
        "# Report the number of key-value pairs present in the object we have made.\n",
        "number_of_pairs_in_obj = len(PDB_id_8cau_info)\n",
        "print(\"The number of key-value pairs present in the object we have defined are\", number_of_pairs_in_obj)"
      ]
    },
    {
      "cell_type": "code",
      "execution_count": null,
      "metadata": {
        "colab": {
          "base_uri": "https://localhost:8080/"
        },
        "outputId": "f0673a56-fe6d-42dd-d96b-ed2bf4b67058",
        "id": "LyvJ385U9sGU"
      },
      "outputs": [
        {
          "output_type": "stream",
          "name": "stdout",
          "text": [
            "Getting value directly: ['Electron Microscopy']\n",
            "\n",
            "Getting value using function: ['Electron Microscopy']\n"
          ]
        }
      ],
      "source": [
        "# The function we have made in the previous code block is a more complex example of a Python dictionary.\n",
        "\n",
        "# Getting value directly using key:\n",
        "print(\"Getting value directly: %s\" % PDB_id_8cau_info[\"experimental_method\"])\n",
        "\n",
        "print()\n",
        "\n",
        "print(\"Getting value using function: %s\" % get_value(\"experimental_method\", input_information=PDB_id_8cau_info))"
      ]
    },
    {
      "cell_type": "markdown",
      "metadata": {
        "id": "7R2ceJp56Ui6"
      },
      "source": [
        "#### 2.2c) Getting summary information for an entry (still using mock data)\n",
        "\n",
        "Let's write a function that can be used to write a brief summary of a PDB entry\n",
        "\n",
        "Please note, that certain calls could return multiple PDB entries (i.e. POST calls), but the GET summary call we use in this exercise will always return only one PDB entry"
      ]
    },
    {
      "cell_type": "code",
      "execution_count": null,
      "metadata": {
        "colab": {
          "base_uri": "https://localhost:8080/"
        },
        "id": "jvyVHDMs6Ui6",
        "outputId": "32432ee4-18c8-4963-88e1-9545c216f7d6"
      },
      "outputs": [
        {
          "output_type": "stream",
          "name": "stdout",
          "text": [
            "Entry is titled \"human alpha7 nicotinic receptor in complex with the C4 nanobody and nicotine\" and was released on 2023/10/11. This entry was determined using Electron Microscopy.\n"
          ]
        }
      ],
      "source": [
        "# The below functions work to returns the information for this id in a summary format.\n",
        "\n",
        "def make_entry_summary(pdb_id,input_information):\n",
        "    \"\"\"\n",
        "    This function creates a summary for a PDB entry\n",
        "    by getting data for an entry, and extracting\n",
        "    pieces of information\n",
        "\n",
        "    :param pdb_id: String,\n",
        "    :param input_information: Dict\n",
        "    :return: String\n",
        "    \"\"\"\n",
        "\n",
        "    entry_information = get_entry_info(pdb_id,input_information)\n",
        "\n",
        "    # Getting the title of the entry\n",
        "    title = get_value(\"title\", entry_information)\n",
        "\n",
        "    # Getting the release date of the entry\n",
        "    release_date = get_value(\"release_date\", entry_information)\n",
        "    # Formatting the release data to make it more user-friendly\n",
        "    formatted_release_date = \"%s/%s/%s\" % (\n",
        "        release_date[:4],\n",
        "        release_date[4:6],\n",
        "        release_date[6:])\n",
        "\n",
        "    # Getting the experimental methods\n",
        "    # Note that there can be multiple methods, so this is a list that\n",
        "    # needs to be iterated\n",
        "    experimental_methods = \"\"\n",
        "    for experimental_method in get_value(\"experimental_method\", entry_information):\n",
        "        if experimental_methods:\n",
        "            experimental_methods += \" and \"\n",
        "        experimental_methods += experimental_method\n",
        "\n",
        "    # Creating the summary text using all the extracted information\n",
        "    summary = \"Entry is titled \\\"%s\\\" and was released on %s.\" % (\n",
        "        title,\n",
        "        formatted_release_date)\n",
        "    summary += \" This entry was determined using %s.\" % experimental_methods\n",
        "    return summary\n",
        "\n",
        "print(make_entry_summary(\"8cau\",example_summary))"
      ]
    },
    {
      "cell_type": "markdown",
      "metadata": {
        "id": "c-YZAyTw6Ui7"
      },
      "source": [
        "## 3) Switching to real API data\n",
        "\n",
        "Finally, we will start using the PDBe API to make real calls to get data for any PDB entry of interest\n",
        "\n",
        "First, we need a function to communicate with the API\n",
        "\n",
        "Making calls over the network is more expensive than getting data from a mock dictionary, so we will include an additional check before making the call: we will check if the PDB id in the pdb_id argument is a valid id that matches the PDB id pattern"
      ]
    },
    {
      "cell_type": "code",
      "execution_count": null,
      "metadata": {
        "id": "Sv88qHwy6Ui7",
        "outputId": "42de1612-cc3d-45d2-b137-68e4bbbed9cc",
        "colab": {
          "base_uri": "https://localhost:8080/"
        }
      },
      "outputs": [
        {
          "output_type": "stream",
          "name": "stdout",
          "text": [
            "Trying to GET data with invalid PDB id:\n",
            "Invalid PDB id\n",
            "None\n",
            "\n",
            "Trying to GET data with valid PDB id:\n",
            "{'8c9x': [{'title': 'human alpha7 nicotinic receptor in complex with the C4 nanobody', 'processing_site': 'PDBE', 'deposition_site': 'PDBE', 'deposition_date': '20230123', 'release_date': '20231011', 'revision_date': '20231011', 'experimental_method_class': ['em'], 'experimental_method': ['Electron Microscopy'], 'split_entry': [], 'related_structures': [{'resource': 'EMDB', 'accession': 'EMD-16513', 'relationship': 'associated EM volume'}], 'entry_authors': ['Prevost, M.S.', 'Barilone, N.', 'Dejean de la Batie, G.', 'Pons, S.', 'Ayme, G.', 'England, P.', 'Gielen, M.', 'Bontems, F.', 'Pehau-Arnaudet, G.', 'Maskos, U.', 'Lafaye, P.', 'Corringer, P.-J.'], 'number_of_entities': {'water': 0, 'polypeptide': 2, 'dna': 0, 'rna': 0, 'sugar': 0, 'ligand': 1, 'dna/rna': 0, 'other': 0, 'carbohydrate_polymer': 1}, 'assemblies': [{'assembly_id': '1', 'name': 'decamer', 'form': 'hetero', 'preferred': True}]}]}\n",
            "\n",
            "Entry is titled \"human alpha7 nicotinic receptor in complex with the C4 nanobody and nicotine\" and was released on 2023/10/11. This entry was determined using Electron Microscopy.\n"
          ]
        }
      ],
      "source": [
        "def get_entry_from_api(pdb_id, api_url):\n",
        "    \"\"\"\n",
        "    This function will make a call to the PDBe API using\n",
        "    the PDB id and API url provided as arguments\n",
        "\n",
        "    :param pdb_id: String,\n",
        "    :param api_url: String\n",
        "    :return: Dict or None\n",
        "    \"\"\"\n",
        "    # Check the PDB id is formatted correctly\n",
        "    if not re.match(\"[0-9][A-Za-z][A-Za-z0-9]{2}\", pdb_id):\n",
        "        print(\"Invalid PDB id\")\n",
        "        return None\n",
        "\n",
        "    # Make a GET call to the API URL\n",
        "    get_request = requests.get(url=api_url+pdb_id)\n",
        "\n",
        "    if get_request.status_code == 200:\n",
        "        # If there is data returned (with HTML status code 200)\n",
        "        # then return the data in JSON format\n",
        "        return get_request.json()\n",
        "    else:\n",
        "        # If there is no data, print status code and response\n",
        "        print(get_request.status_code, get_request.text)\n",
        "        return None\n",
        "\n",
        "# Try our GET function with an invalid PDB id\n",
        "print(\"Trying to GET data with invalid PDB id:\")\n",
        "print(get_entry_from_api(\"whatever\", summary_url))\n",
        "print()\n",
        "\n",
        "# Try our GET function with a valid PDB id\n",
        "print(\"Trying to GET data with valid PDB id:\")\n",
        "print(get_entry_from_api(\"8c9x\", summary_url))\n",
        "\n",
        "print()\n",
        "\n",
        "print(make_entry_summary(\"8cau\",get_entry_from_api(\"8cau\", summary_url)))\n",
        "\n",
        "# As you can hopefully see, the data displayed is very similar to\n",
        "# what we had in the mock data in previous sections - however,\n",
        "# this is actual data coming from the PDBe API\n"
      ]
    },
    {
      "cell_type": "markdown",
      "metadata": {
        "id": "E1kl2XF16Ui8"
      },
      "source": [
        "As you can hopefully see, the data displayed is very similar to what we had in the mock data in previous sections - however, this is actual data coming from the PDBe API"
      ]
    },
    {
      "cell_type": "markdown",
      "metadata": {
        "id": "ZEglE_vH6Ui8"
      },
      "source": [
        "## 4) Trying the make_entry_summary() function with real API data\n",
        "\n",
        "We can to use our make_summary() function on real API data - All we need to do is to change the argument (data) we are passing into it"
      ]
    },
    {
      "cell_type": "code",
      "execution_count": null,
      "metadata": {
        "id": "LCtuwmCu6Ui9",
        "outputId": "ad8d06aa-47d3-4f9b-9c85-6f7ce5b61225",
        "colab": {
          "base_uri": "https://localhost:8080/"
        }
      },
      "outputs": [
        {
          "output_type": "stream",
          "name": "stdout",
          "text": [
            "Example #1\n",
            "Entry is titled \"human alpha7 nicotinic receptor in complex with the C4 nanobody and nicotine\" and was released on 2023/10/11. This entry was determined using Electron Microscopy.\n",
            "\n",
            "Example #2\n",
            "Entry is titled \"Human alpha7 nicotinic receptor in complex with the E3 nanobody and nicotine\" and was released on 2023/10/11. This entry was determined using Electron Microscopy.\n",
            "\n",
            "Example #3\n",
            "Entry is titled \"human alpha7 nicotinic receptor in complex with the C4 nanobody\" and was released on 2023/10/11. This entry was determined using Electron Microscopy.\n",
            "\n",
            "Example #4\n",
            "Entry is titled \"Human alpha7 nicotinic receptor in complex with the E3 nanobody\" and was released on 2023/10/11. This entry was determined using Electron Microscopy.\n",
            "\n",
            "Example #5\n",
            "Entry is titled \"Crystal Structure of Anti-Nicotine Antibody NIC311 Fab Complexed with Nicotine\" and was released on 2023/01/11. This entry was determined using X-ray diffraction.\n",
            "\n",
            "Example #6\n",
            "Entry is titled \"X-ray structure of acetylcholine binding protein (AChBP) in complex with nicotine\" and was released on 2004/03/25. This entry was determined using X-ray diffraction.\n"
          ]
        }
      ],
      "source": [
        "print(\"Example #1\")\n",
        "print(make_entry_summary(\"8cau\",get_entry_from_api(\"8cau\", summary_url)))\n",
        "print()\n",
        "print(\"Example #2\")\n",
        "print(make_entry_summary(\"8ci1\",get_entry_from_api(\"8ci1\", summary_url)))\n",
        "print()\n",
        "print(\"Example #3\")\n",
        "print(make_entry_summary(\"8c9x\",get_entry_from_api(\"8c9x\", summary_url)))\n",
        "print()\n",
        "print(\"Example #4\")\n",
        "print(make_entry_summary(\"8ce4\",get_entry_from_api(\"8ce4\", summary_url)))\n",
        "print()\n",
        "print(\"Example #5\")\n",
        "print(make_entry_summary(\"7u61\",get_entry_from_api(\"7u61\", summary_url)))\n",
        "print()\n",
        "print(\"Example #6\")\n",
        "print(make_entry_summary(\"1uw6\",get_entry_from_api(\"1uw6\", summary_url)))"
      ]
    },
    {
      "cell_type": "markdown",
      "metadata": {
        "id": "DqsagAjEmnrY"
      },
      "source": [
        "## 5) Further applications with real API data\n",
        "\n",
        "Getting the resolution for an entry is another simple example of using PDBe APIs.\n",
        "\n",
        "---\n",
        "\n",
        "*FURTHER INFORMATION:*\n",
        "\n",
        "The information block below can also be generated using the json file that is available from URLs below:\n",
        "\n",
        "*   https://www.ebi.ac.uk/pdbe/api/pdb/entry/experiment/8cau\n",
        "*   https://www.ebi.ac.uk/pdbe/api/pdb/entry/experiment/7u61"
      ]
    },
    {
      "cell_type": "code",
      "execution_count": null,
      "metadata": {
        "outputId": "60a23328-b862-46a0-e091-ac9818c1d14a",
        "colab": {
          "base_uri": "https://localhost:8080/"
        },
        "id": "4IChlxfWnDtj"
      },
      "outputs": [
        {
          "output_type": "stream",
          "name": "stdout",
          "text": [
            "Trying to GET data with valid PDB id:\n",
            "{'8cau': [{'resolution': 3.4, 'experimental_method': 'Electron Microscopy', 'experimental_method_class': 'em', 'additional_experimental_details': [{'emdb_id': 'EMD-16534', 'url': 'https://www.ebi.ac.uk/pdbe/api/emdb/entry/experiment/EMD-16534'}], 'imaging': [{'microscope': 'TFS KRIOS', 'holder_details': None, 'holder_model': None, 'date': None, 'acceleration_voltage': 300, 'em_imaging_mode': 'BRIGHT FIELD', 'illumination_mode': 'FLOOD BEAM', 'spherical_aberration_coef': None, 'nominal_minimum_defocus': 600.0, 'nominal_maximum_defocus': 2200.0, 'nominal_magnification': None, 'calibrated_magnification': None, 'tilt_minimum_angle': None, 'tilt_maximum_angle': None, 'energy_filter': None, 'energy_window': None, 'temperature': None, 'minimum_temperature': None, 'maximum_temperature': None, 'detector_distance': None, 'electron_dose': 40.0, 'electron_source': 'FIELD EMISSION GUN', 'astigmatism': None, 'astigmatism_correction_details': None, 'details': None, 'detector': 'FEI FALCON III (4k x 4k)', 'detector_details': None}], 'specimen_preparation': [{'specimen_concentration': 0.7, 'crystal_grow_details': None, 'buffer': [{'name': None, 'ph': 8.0, 'details': None}], 'vitrification': [{'cryogen': 'ETHANE', 'humidity': None, 'temperature': None, 'instrument': None, 'experimental_method': None, 'time_resolved_state': None, 'details': None}]}], 'processing': {'particle_selection': [{'number_of_projections': 73690, 'software': None, 'experimental_method': None, 'details': None}], 'reconstruction': [{'experimental_method': None, 'resolution_by_author': 3.4, 'resolution_method': 'FSC 0.143 CUT-OFF', 'ctf_correction_method': None, 'nominal_pixel_size': None, 'actual_pixel_size': None, 'magnification_calibration': None, 'euler_angles_details': None, 'number_class_averages': None, 'software': None, 'details': None}]}}]}\n",
            "{'resolution': 3.4, 'experimental_method': 'Electron Microscopy', 'experimental_method_class': 'em', 'additional_experimental_details': [{'emdb_id': 'EMD-16534', 'url': 'https://www.ebi.ac.uk/pdbe/api/emdb/entry/experiment/EMD-16534'}], 'imaging': [{'microscope': 'TFS KRIOS', 'holder_details': None, 'holder_model': None, 'date': None, 'acceleration_voltage': 300, 'em_imaging_mode': 'BRIGHT FIELD', 'illumination_mode': 'FLOOD BEAM', 'spherical_aberration_coef': None, 'nominal_minimum_defocus': 600.0, 'nominal_maximum_defocus': 2200.0, 'nominal_magnification': None, 'calibrated_magnification': None, 'tilt_minimum_angle': None, 'tilt_maximum_angle': None, 'energy_filter': None, 'energy_window': None, 'temperature': None, 'minimum_temperature': None, 'maximum_temperature': None, 'detector_distance': None, 'electron_dose': 40.0, 'electron_source': 'FIELD EMISSION GUN', 'astigmatism': None, 'astigmatism_correction_details': None, 'details': None, 'detector': 'FEI FALCON III (4k x 4k)', 'detector_details': None}], 'specimen_preparation': [{'specimen_concentration': 0.7, 'crystal_grow_details': None, 'buffer': [{'name': None, 'ph': 8.0, 'details': None}], 'vitrification': [{'cryogen': 'ETHANE', 'humidity': None, 'temperature': None, 'instrument': None, 'experimental_method': None, 'time_resolved_state': None, 'details': None}]}], 'processing': {'particle_selection': [{'number_of_projections': 73690, 'software': None, 'experimental_method': None, 'details': None}], 'reconstruction': [{'experimental_method': None, 'resolution_by_author': 3.4, 'resolution_method': 'FSC 0.143 CUT-OFF', 'ctf_correction_method': None, 'nominal_pixel_size': None, 'actual_pixel_size': None, 'magnification_calibration': None, 'euler_angles_details': None, 'number_class_averages': None, 'software': None, 'details': None}]}}\n",
            "\n",
            "Resolution is 3.4 Angstom\n"
          ]
        }
      ],
      "source": [
        "# Try our GET function wwith different api endpoint & a valid PDB id for a structure determined by Electron Microscopy\n",
        "print(\"Trying to GET data with valid PDB id:\")\n",
        "print(get_entry_from_api(\"8cau\", experiment_url))\n",
        "print(get_entry_info(\"8cau\",(get_entry_from_api(\"8cau\", experiment_url))))\n",
        "print()\n",
        "print(\"Resolution is %s Angstom\" % get_value(\"resolution\",(get_entry_info(\"8cau\",(get_entry_from_api(\"8cau\", experiment_url))))))"
      ]
    },
    {
      "cell_type": "code",
      "execution_count": null,
      "metadata": {
        "outputId": "05029f09-dec2-440e-b8bb-251c94864c62",
        "colab": {
          "base_uri": "https://localhost:8080/"
        },
        "id": "za8JJb_TJ8Xz"
      },
      "outputs": [
        {
          "output_type": "stream",
          "name": "stdout",
          "text": [
            "Trying to GET data with valid PDB id:\n",
            "{'7u61': [{'experimental_method': 'X-ray diffraction', 'r_factor': 0.2328, 'r_free': 0.2636, 'experimental_method_class': 'x-ray', 'completeness': None, 'refinement_software': 'PHENIX', 'num_reflections': None, 'resolution_low': 54.68, 'resolution_high': 2.1, 'resolution': 2.1, 'r_free_percent_reflections': 7.19, 'percent_reflections_observed': 99.49, 'r_free_selection_details': None, 'structure_determination_method': 'MOLECULAR REPLACEMENT', 'r_work': 0.2304, 'starting_model': '2YK1', 'spacegroup': 'C 1 2 1', 'experiment_data_available': 'Y', 'phasing_method': None, 'cell': {'a': 114.762, 'b': 71.326, 'c': 57.344, 'alpha': 90.0, 'beta': 107.66, 'gamma': 90.0}, 'expression_host_scientific_name': [], 'crystal_growth': [{'grow_details': 'MES pH 5.5, 60mM\\nPEG 4000, 15%\\nAmmonium Sulfate, 90mM', 'grow_temperature': 298.0, 'grow_ph': None, 'grow_method': 'VAPOR DIFFUSION, SITTING DROP'}], 'diffraction_experiment': [{'diffraction_protocol': 'Single wavelength', 'wavelength': 1.0, 'beam_source_type': 'ALS BEAMLINE 5.0.2', 'beam_source_name': 'Synchrotron', 'synchrotron_site': 'ALS', 'synchrotron_beamline': '5.0.2', 'source_details': None, 'wavelength_list': '1.0', 'detector_type': 'DECTRIS PILATUS 6M', 'detector': 'Pixel', 'detector_details': None, 'ambient_temp': 80.0}]}]}\n",
            "{'experimental_method': 'X-ray diffraction', 'r_factor': 0.2328, 'r_free': 0.2636, 'experimental_method_class': 'x-ray', 'completeness': None, 'refinement_software': 'PHENIX', 'num_reflections': None, 'resolution_low': 54.68, 'resolution_high': 2.1, 'resolution': 2.1, 'r_free_percent_reflections': 7.19, 'percent_reflections_observed': 99.49, 'r_free_selection_details': None, 'structure_determination_method': 'MOLECULAR REPLACEMENT', 'r_work': 0.2304, 'starting_model': '2YK1', 'spacegroup': 'C 1 2 1', 'experiment_data_available': 'Y', 'phasing_method': None, 'cell': {'a': 114.762, 'b': 71.326, 'c': 57.344, 'alpha': 90.0, 'beta': 107.66, 'gamma': 90.0}, 'expression_host_scientific_name': [], 'crystal_growth': [{'grow_details': 'MES pH 5.5, 60mM\\nPEG 4000, 15%\\nAmmonium Sulfate, 90mM', 'grow_temperature': 298.0, 'grow_ph': None, 'grow_method': 'VAPOR DIFFUSION, SITTING DROP'}], 'diffraction_experiment': [{'diffraction_protocol': 'Single wavelength', 'wavelength': 1.0, 'beam_source_type': 'ALS BEAMLINE 5.0.2', 'beam_source_name': 'Synchrotron', 'synchrotron_site': 'ALS', 'synchrotron_beamline': '5.0.2', 'source_details': None, 'wavelength_list': '1.0', 'detector_type': 'DECTRIS PILATUS 6M', 'detector': 'Pixel', 'detector_details': None, 'ambient_temp': 80.0}]}\n",
            "\n",
            "Resolution is 2.1 Angstom\n"
          ]
        }
      ],
      "source": [
        "# Try our GET function with different api endpoint & a valid PDB id for a structure determined by X-ray crystallography\n",
        "print(\"Trying to GET data with valid PDB id:\")\n",
        "print(get_entry_from_api(\"7u61\", experiment_url))\n",
        "print(get_entry_info(\"7u61\",(get_entry_from_api(\"7u61\", experiment_url))))\n",
        "print()\n",
        "print(\"Resolution is %s Angstom\" % get_value(\"resolution\",(get_entry_info(\"7u61\",(get_entry_from_api(\"7u61\", experiment_url))))))"
      ]
    },
    {
      "cell_type": "markdown",
      "source": [
        "We can get this type of information for any entry."
      ],
      "metadata": {
        "id": "Kib6iDSIt5xN"
      }
    },
    {
      "cell_type": "code",
      "execution_count": null,
      "metadata": {
        "outputId": "09be794a-a51b-4896-bd8f-7587a1743a1d",
        "colab": {
          "base_uri": "https://localhost:8080/"
        },
        "id": "2czMQbdPubo_"
      },
      "outputs": [
        {
          "output_type": "stream",
          "name": "stdout",
          "text": [
            "Example #1\n",
            "Entry is titled \"human alpha7 nicotinic receptor in complex with the C4 nanobody and nicotine\" and was released on 2023/10/11. This entry was determined using Electron Microscopy.\n",
            "Resolution is 3.4 Angstom\n",
            "\n",
            "Example #2\n",
            "Entry is titled \"Human alpha7 nicotinic receptor in complex with the E3 nanobody and nicotine\" and was released on 2023/10/11. This entry was determined using Electron Microscopy.\n",
            "Resolution is 2.8 Angstom\n",
            "\n",
            "Example #3\n",
            "Entry is titled \"human alpha7 nicotinic receptor in complex with the C4 nanobody\" and was released on 2023/10/11. This entry was determined using Electron Microscopy.\n",
            "Resolution is 2.3 Angstom\n",
            "\n",
            "Example #4\n",
            "Entry is titled \"Human alpha7 nicotinic receptor in complex with the E3 nanobody\" and was released on 2023/10/11. This entry was determined using Electron Microscopy.\n",
            "Resolution is 2.7 Angstom\n",
            "\n",
            "Example #5\n",
            "Entry is titled \"Crystal Structure of Anti-Nicotine Antibody NIC311 Fab Complexed with Nicotine\" and was released on 2023/01/11. This entry was determined using X-ray diffraction.\n",
            "Resolution is 2.1 Angstom\n",
            "\n",
            "Example #6\n",
            "Entry is titled \"X-ray structure of acetylcholine binding protein (AChBP) in complex with nicotine\" and was released on 2004/03/25. This entry was determined using X-ray diffraction.\n",
            "Resolution is 2.2 Angstom\n"
          ]
        }
      ],
      "source": [
        "print(\"Example #1\")\n",
        "print(make_entry_summary(\"8cau\",get_entry_from_api(\"8cau\", summary_url)))\n",
        "print(\"Resolution is %s Angstom\" % get_value(\"resolution\",(get_entry_info(\"8cau\",(get_entry_from_api(\"8cau\", experiment_url))))))\n",
        "print()\n",
        "print(\"Example #2\")\n",
        "print(make_entry_summary(\"8ci1\",get_entry_from_api(\"8ci1\", summary_url)))\n",
        "print(\"Resolution is %s Angstom\" % get_value(\"resolution\",(get_entry_info(\"8ci1\",(get_entry_from_api(\"8ci1\", experiment_url))))))\n",
        "print()\n",
        "print(\"Example #3\")\n",
        "print(make_entry_summary(\"8c9x\",get_entry_from_api(\"8c9x\", summary_url)))\n",
        "print(\"Resolution is %s Angstom\" % get_value(\"resolution\",(get_entry_info(\"8c9x\",(get_entry_from_api(\"8c9x\", experiment_url))))))\n",
        "print()\n",
        "print(\"Example #4\")\n",
        "print(make_entry_summary(\"8ce4\",get_entry_from_api(\"8ce4\", summary_url)))\n",
        "print(\"Resolution is %s Angstom\" % get_value(\"resolution\",(get_entry_info(\"8ce4\",(get_entry_from_api(\"8ce4\", experiment_url))))))\n",
        "print()\n",
        "print(\"Example #5\")\n",
        "print(make_entry_summary(\"7u61\",get_entry_from_api(\"7u61\", summary_url)))\n",
        "print(\"Resolution is %s Angstom\" % get_value(\"resolution\",(get_entry_info(\"7u61\",(get_entry_from_api(\"7u61\", experiment_url))))))\n",
        "print()\n",
        "print(\"Example #6\")\n",
        "print(make_entry_summary(\"1uw6\",get_entry_from_api(\"1uw6\", summary_url)))\n",
        "print(\"Resolution is %s Angstom\" % get_value(\"resolution\",(get_entry_info(\"1uw6\",(get_entry_from_api(\"1uw6\", experiment_url))))))"
      ]
    },
    {
      "cell_type": "markdown",
      "source": [
        "## 6) Summary\n",
        "\n",
        "In this notebook we have coverted information from an API call into a Python object that is a dictionary data-type.\n",
        "\n",
        "We have made 4 Python functions / definitions / methods to help get and navigate the information from PDBe API calls:\n",
        "\n",
        "*   **get_value()**\n",
        "\n",
        "    *output is string*\n",
        "\n",
        "*   **get_entry_from_api()**\n",
        "\n",
        "    *output is a dictionary*\n",
        "\n",
        "*   **get_entry_info()**\n",
        "    \n",
        "    *takes output from **get_entry_from_api** as input*\n",
        "\n",
        "    *uses **get_value** function as part of the method*\n",
        "\n",
        "*   **make_entry_summary()**\n",
        "\n",
        "    *takes output from **get_entry_from_api** as input*\n",
        "    \n",
        "    *uses **get_value** function as part of the method*\n",
        "\n",
        "\n",
        "We have shown how one can write a 'print' statement that pulls information from a dictionary by specifying a key and displays the value the corresponds to that key on the screen. The **get_value** function can also be used to do this and is more easily incorporated into complex blocks of Python code.\n"
      ],
      "metadata": {
        "id": "naDYx_L6o4Hy"
      }
    },
    {
      "cell_type": "markdown",
      "source": [
        "## 7) Insight to help making your own notebooks\n",
        "\n",
        "When you are building new notebooks using PDBe's API calls there are some helpful ways to view what data is available.\n",
        "\n",
        "One we have been sharing is some of PDBe's API endpoints can be accessed by URLs to a JSON file, e.g.:\n",
        "*   https://www.ebi.ac.uk/pdbe/api/pdb/entry/summary/8cau\n",
        "*   https://www.ebi.ac.uk/pdbe/api/pdb/entry/summary/7u61\n",
        "*   https://www.ebi.ac.uk/pdbe/api/pdb/entry/experiment/8cau\n",
        "*   https://www.ebi.ac.uk/pdbe/api/pdb/entry/experiment/7u61\n",
        "\n",
        "Another option available is here: https://www.ebi.ac.uk/pdbe/api/doc/pdb.html\n",
        "\n",
        "You can look at API call results by using the webinterface we have provided.\n",
        "\n",
        "On this webpage one can generate a API call by clicking the grey **'Run Call'** button with the pdbid loaded by default or changing it to a PDB id of your choosing. This will reveal the data structure of what the call will generate and enable you to decide how you will use Python code to handle the output."
      ],
      "metadata": {
        "id": "q6-LgbPrQYwJ"
      }
    },
    {
      "cell_type": "markdown",
      "metadata": {
        "id": "vaDd3el86Ui9"
      },
      "source": [
        "## This ends the first notebook - please proceed to other notebooks of your interest"
      ]
    },
    {
      "cell_type": "markdown",
      "metadata": {
        "id": "VQLcMuNE6Ui-"
      },
      "source": [
        "Copyright 2024 EMBL - European Bioinformatics Institute\n",
        "\n",
        "Licensed under the Apache License, Version 2.0 (the \"License\"); you may not use this file except in compliance with the License. You may obtain a copy of the License at http://www.apache.org/licenses/LICENSE-2.0\n",
        "\n",
        "Unless required by applicable law or agreed to in writing, software distributed under the License is distributed on an \"AS IS\" BASIS, WITHOUT WARRANTIES OR CONDITIONS OF ANY KIND, either express or implied. See the License for the specific language governing permissions and limitations under the License."
      ]
    }
  ],
  "metadata": {
    "kernelspec": {
      "display_name": "Python 3",
      "language": "python",
      "name": "python3"
    },
    "language_info": {
      "codemirror_mode": {
        "name": "ipython",
        "version": 3
      },
      "file_extension": ".py",
      "mimetype": "text/x-python",
      "name": "python",
      "nbconvert_exporter": "python",
      "pygments_lexer": "ipython3",
      "version": "3.7.0"
    },
    "colab": {
      "provenance": [],
      "toc_visible": true,
      "include_colab_link": true
    }
  },
  "nbformat": 4,
  "nbformat_minor": 0
}