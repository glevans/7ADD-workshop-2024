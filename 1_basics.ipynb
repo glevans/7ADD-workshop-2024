{
  "cells": [
    {
      "cell_type": "markdown",
      "metadata": {
        "id": "view-in-github",
        "colab_type": "text"
      },
      "source": [
        "<a href=\"https://colab.research.google.com/github/glevans/7ADD-workshop-2024/blob/main/1_basics.ipynb\" target=\"_parent\"><img src=\"https://colab.research.google.com/assets/colab-badge.svg\" alt=\"Open In Colab\"/></a>"
      ]
    },
    {
      "cell_type": "markdown",
      "metadata": {
        "id": "hpa6q8TI6Uik"
      },
      "source": [
        "#**Leveraging the power of PDBe's APIs**\n",
        "<img src=\"https://github.com/paulynamagana/AFDB_notebooks/blob/main/api.png?raw=true\" height=\"80\" align=\"right\">\n",
        "\n",
        "Welcome to this notebook!\n",
        "\n",
        "To use this notebook in Colab (link at top of the page):\n",
        "\n",
        "*   you will need to have a Google account\n",
        "*   be logged in to Google Colab (by being logged into Google account)\n",
        "\n",
        "<br>\n",
        "\n",
        "You can also download this notebook and view it *via* a local installation of [Jupyter](https://jupyter.org/) (*i.e.* latest Jupyterlab or original Juptyer Notebook) or a browser instance of [JupyterLab](https://jupyter.org/try-jupyter/lab/).\n",
        "\n",
        "<br>\n",
        "\n",
        "---\n",
        "\n",
        "This interactive Python notebook is part of a series that will guide you through various ways of programmatically accessing Protein Data Bank in Europe (PDBe) data using APIs.\n",
        "\n",
        "<img src=\"https://www.ebi.ac.uk/pdbe/docs_dev/logos/images/RGB/PDBe-logo-RGB_2013.png\" height=\"300\" align=\"right\">\n",
        "\n",
        "\n",
        "The REST API is a programmatic way to obtain information from the PDB and EMDB.\n",
        "\n",
        "You can access details about:\n",
        "\n",
        "* sample\n",
        "* experiment\n",
        "* models\n",
        "* compounds\n",
        "* cross-references\n",
        "* publications\n",
        "* quality\n",
        "* assemblies\n",
        "* and more...\n",
        "\n",
        "For more information, visit http://www.ebi.ac.uk/pdbe/pdbe-rest-api\n",
        "\n",
        "<br>\n",
        "\n",
        "---\n",
        "\n",
        "  ## How to use this notebook <a name=\"Quick Start\"></a>\n",
        "1. To run a code cell, click on the cell to select it. You will notice a play button (▶️) on the left side of the cell. Click on the play button or press Shift+Enter to run the code in the selected cell.\n",
        "2. The code will start executing, and you will see the output, if any, displayed below the code cell.\n",
        "3. Move to the next code cell and repeat steps 2 and 3 until you have executed all the desired code cells in sequence.\n",
        "4. The currently running step is indicated by a circle with a stop sign next to it.\n",
        "If you need to stop or interrupt the execution of a code cell, you can click on the stop button (■) located next to the play button.\n",
        "\n",
        "*Remember to run the code cells in the correct order, as their execution might depend on variables or functions defined in previous cells. You can modify the code in a code cell and re-run it to see updated results.*\n",
        "\n",
        "<br>\n",
        "\n",
        "---\n",
        "\n",
        "## Contact us\n",
        "\n",
        "If you experience any bugs please contact pdbehelp@ebi.ac.uk and put \"Help with\" and the title of the notebook in the subject line of the message.\n",
        "\n"
      ]
    },
    {
      "cell_type": "markdown",
      "metadata": {
        "id": "SHsmobMO6Uio"
      },
      "source": [
        "# Notebook #1\n",
        "\n",
        "This notebook is the first in the training material series. It aims to lay down the foundation for understanding how users can interact with the PDBe REST API using Python3."
      ]
    },
    {
      "cell_type": "markdown",
      "metadata": {
        "id": "JsY4CtAp6Uip"
      },
      "source": [
        "## 1) Making imports and setting variables\n",
        "\n",
        "First, we import some packages that we will use, and set some variables.\n",
        "\n",
        "We will be using Python packages / modules:\n",
        "\n",
        "*   [re](https://https://docs.python.org/3/library/re.html) - allows use of regular expression matching operations similar to those found in Perl.\n",
        "*   [requests](https://docs.python.org/3/library/re.html) - allows you to send HTTP/1.1 requests extremely easily.\n",
        "*   [pprint](https://docs.python.org/3/library/pprint.html) - makes data look more readable / pretty\n",
        "*   [csv](https://docs.python.org/3/library/csv.html) - enables csv file input and output\n",
        "\n",
        "<br>\n",
        "\n",
        "\n",
        "\n",
        "---\n",
        "\n",
        "\n",
        "\n",
        "*FURTHER INFORMATION:*\n",
        "\n",
        "Full list of valid PDBe API URLs / API endpoints is available from http://www.ebi.ac.uk/pdbe/api/doc/\n"
      ]
    },
    {
      "cell_type": "code",
      "execution_count": 1,
      "metadata": {
        "id": "3bsr3fcQ6Uiq"
      },
      "outputs": [],
      "source": [
        "# Importing Python packages / modules\n",
        "import re\n",
        "import requests\n",
        "import pprint\n",
        "import csv\n",
        "\n",
        "# Defining variables to describe API urls\n",
        "base_url = \"https://www.ebi.ac.uk/pdbe/\"\n",
        "\n",
        "api_base = base_url + \"api/\"\n",
        "\n",
        "summary_url = api_base + \"pdb/entry/summary/\"\n",
        "\n",
        "# We have defined a variable called summary_url with the following value:\n",
        "#### https://www.ebi.ac.uk/pdbe/api/pdb/entry/summary/\n",
        "\n",
        "experiment_url = api_base + \"pdb/entry/experiment/\"\n",
        "\n",
        "# We have defined a variable called experiment_url with the following value:\n",
        "#### https://www.ebi.ac.uk/pdbe/api/pdb/entry/experiment/"
      ]
    },
    {
      "cell_type": "markdown",
      "metadata": {
        "id": "YUr0YbA16Uis"
      },
      "source": [
        "## 2) Basic examples\n",
        "\n",
        "We will start with some simple Python code to enhance the usefulness of PDBe's APIs."
      ]
    },
    {
      "cell_type": "markdown",
      "metadata": {
        "id": "WMlKjVu46Ui0"
      },
      "source": [
        "### 2.1) Getting a value for a key from a dictionary\n",
        "\n",
        "Dictionaries are Python data structures with unique keys and corresponding values.\n",
        "\n",
        "PDBe API calls generally return data in the form that readily can be converted to Python dictionaries, i.e. collections of key and value pairs.\n",
        "\n",
        "Getting values from a Python object which is dictionary data type can be done either by directly accessing the value using the key, or by using a simple function, such as below."
      ]
    },
    {
      "cell_type": "code",
      "execution_count": null,
      "metadata": {
        "id": "SHNQ744d6Ui1"
      },
      "outputs": [],
      "source": [
        "# Basic example of a Python dictionary with two keys and two corresponding values.\n",
        "# We are using {} to define that this input is a Python data-type dictionary.\n",
        "\n",
        "simplified_example_information_block = {\n",
        "    \"pdb_id\": \"8cau\",\n",
        "    \"experimental_method\": \"Electron Microscopy\",\n",
        "}\n",
        "\n",
        "# Getting value directly using key:\n",
        "print(\"Getting value directly:\", simplified_example_information_block[\"pdb_id\"])\n",
        "print(\"Getting value directly:\", simplified_example_information_block[\"experimental_method\"])\n",
        "\n",
        "# Getting value using a simple function we have named 'get_value'.\n",
        "# This function needs two inputs and gets the value for a key from a dictionary.\n",
        "def get_value(key, input_information):\n",
        "    try:\n",
        "        return input_information[key]\n",
        "    except KeyError as error:\n",
        "        error_message = \"no value\"\n",
        "        return error_message\n",
        "\n",
        "print()\n",
        "\n",
        "print(\"Getting value using function:\", get_value(\"pdb_id\", input_information=simplified_example_information_block))\n",
        "print(\"Getting value using function:\", get_value(\"experimental_method\", input_information=simplified_example_information_block))"
      ]
    },
    {
      "cell_type": "markdown",
      "metadata": {
        "id": "yPoCESNo6Ui3"
      },
      "source": [
        "### 2.2) Generating summary information\n"
      ]
    },
    {
      "cell_type": "markdown",
      "source": [
        "#### 2.2a) Creating a mock PDBe API output\n",
        "\n",
        "The information block below will serve as an offline example of what an actual PDBe API call would return.\n",
        "\n",
        "The example is the summary query result for the entry \"8CAU\".\n",
        "\n",
        "This stucture can be viewed on a PDBe webpage here:\n",
        "https://www.ebi.ac.uk/pdbe/entry/pdb/8cau\n",
        "\n",
        "<br>\n",
        "\n",
        "In this page we will be demonstrating how the information on our webpages, as well as additional insight/information from the wwPDB database can be accessible *via* a programmatic approach.\n",
        "\n",
        "We will create an object 'example_summary' which is being defined as the Python data type dictionary.\n",
        "\n",
        "We will be using a function from the Python package **pprint** to create nice output.\n",
        "\n",
        "<br>\n",
        "\n",
        "---\n",
        "\n",
        "*FURTHER INFORMATION:*\n",
        "\n",
        "The information block below can also be generated using the json file that is available from the URL below:\n",
        "\n",
        "https://www.ebi.ac.uk/pdbe/api/pdb/entry/summary/8cau"
      ],
      "metadata": {
        "id": "B1pttckvP9Z4"
      }
    },
    {
      "cell_type": "code",
      "execution_count": null,
      "metadata": {
        "id": "D6t30rVY6Ui3"
      },
      "outputs": [],
      "source": [
        "# Example below shows a block of information in equivalent format to PDBe API output.\n",
        "# The information is being converted into a Python data-type dictionary.\n",
        "example_summary =  {\n",
        "   \"8cau\":[\n",
        "      {\n",
        "         \"title\":\"human alpha7 nicotinic receptor in complex with the C4 nanobody and nicotine\",\n",
        "         \"processing_site\":\"PDBE\",\n",
        "         \"deposition_site\":\"PDBE\",\n",
        "         \"deposition_date\":\"20230124\",\n",
        "         \"release_date\":\"20231011\",\n",
        "         \"revision_date\":\"20231011\",\n",
        "         \"experimental_method_class\":[\n",
        "            \"em\"\n",
        "         ],\n",
        "         \"experimental_method\":[\n",
        "            \"Electron Microscopy\"\n",
        "         ],\n",
        "         \"split_entry\":[\n",
        "\n",
        "         ],\n",
        "         \"related_structures\":[\n",
        "            {\n",
        "               \"resource\":\"EMDB\",\n",
        "               \"accession\":\"EMD-16534\",\n",
        "               \"relationship\":\"associated EM volume\"\n",
        "            }\n",
        "         ],\n",
        "         \"entry_authors\":[\n",
        "            \"Prevost, M.S.\",\n",
        "            \"Barilone, N.\",\n",
        "            \"Dejean de la Batie, G.\",\n",
        "            \"Pons, S.\",\n",
        "            \"Ayme, G.\",\n",
        "            \"England, P.\",\n",
        "            \"Gielen, M.\",\n",
        "            \"Bontems, F.\",\n",
        "            \"Pehau-Arnaudet, G.\",\n",
        "            \"Maskos, U.\",\n",
        "            \"Lafaye, P.\",\n",
        "            \"Corringer, P.-J.\"\n",
        "         ],\n",
        "         \"number_of_entities\":{\n",
        "            \"water\":0,\n",
        "            \"polypeptide\":2,\n",
        "            \"dna\":0,\n",
        "            \"rna\":0,\n",
        "            \"sugar\":0,\n",
        "            \"ligand\":2,\n",
        "            \"dna/rna\":0,\n",
        "            \"other\":0,\n",
        "            \"carbohydrate_polymer\":1\n",
        "         },\n",
        "         \"assemblies\":[\n",
        "            {\n",
        "               \"assembly_id\":\"1\",\n",
        "               \"name\":\"decamer\",\n",
        "               \"form\":\"hetero\",\n",
        "               \"preferred\":\"true\"\n",
        "            }\n",
        "         ]\n",
        "      }\n",
        "   ]\n",
        "}\n",
        "\n",
        "# We can print the dictionary object we have created to see the contents\n",
        "print(example_summary)\n",
        "\n",
        "print()\n",
        "\n",
        "# Using the function pprint from Python package pprint makes the data look nice with indent and line-break formatting etc\n",
        "pprint.pprint(example_summary)\n",
        "\n",
        "print()\n",
        "\n",
        "# Check the object we have made is Python data type dictionary.\n",
        "type_of_obj = type(example_summary)\n",
        "print(\"The data type for the object we have defined is\", type_of_obj)\n",
        "\n",
        "# Report the 'keys' present in the object we have made.\n",
        "keys_in_obj = example_summary.keys()\n",
        "print(\"The keys present in the object we have defined is\", keys_in_obj)\n",
        "\n",
        "# Report the number of 'keys' present in the object we have made.\n",
        "number_of_keys_in_obj = len(example_summary)\n",
        "print(\"The number of keys present in the object we have defined are\", number_of_keys_in_obj)"
      ]
    },
    {
      "cell_type": "markdown",
      "source": [
        "<br>\n",
        "\n",
        "---\n",
        "\n",
        "*Note:*\n",
        "\n",
        "The following built-in Python functions were used in the previous block of code:\n",
        "\n",
        "*   [type()](https://docs.python.org/3/library/functions.html#type)\n",
        "*   [len()](https://docs.python.org/3/library/functions.html#len)\n",
        "\n",
        "We used these to query/check certain aspects of the Python object we have created."
      ],
      "metadata": {
        "id": "43QbBQHKZa9k"
      }
    },
    {
      "cell_type": "markdown",
      "metadata": {
        "id": "M39jOgM36Ui5"
      },
      "source": [
        "#### 2.2b) Getting metadata for a single PDB entry from the mock PDBe API data\n",
        "\n",
        "Now let's try to get summary information for a PDB entry using a simple function!\n",
        "We will use the mock PDBe API data as an example to start."
      ]
    },
    {
      "cell_type": "code",
      "execution_count": null,
      "metadata": {
        "id": "yU2mNNJY6Ui5"
      },
      "outputs": [],
      "source": [
        "# The below function called 'get_entry_info' does two things:\n",
        "# --> Checks if PDB id is listed in the information.\n",
        "# --> If PDB id is listed, returns the information for this id.\n",
        "# --> Information is output if available in the form of a dictionary.\n",
        "\n",
        "def get_entry_info(pdb_id, input_information):\n",
        "    try:\n",
        "        output_for_entry_as_list = (input_information[pdb_id])\n",
        "        output_for_entry_as_dict = {}\n",
        "        for item in output_for_entry_as_list:\n",
        "            output_for_entry_as_dict.update(item)\n",
        "        return output_for_entry_as_dict\n",
        "    except KeyError as error:\n",
        "        print(\"Key error: \", error)\n",
        "        return None\n",
        "\n",
        "# Try to get PDB entry \"3bow\"\n",
        "print(\"Trying with PDB id which is NOT in the information block:\")\n",
        "PDB_id_3bow_info = get_entry_info(\"3bow\", example_summary)\n",
        "print(PDB_id_3bow_info)\n",
        "\n",
        "print()\n",
        "\n",
        "# Try to get PDB entry \"8cau\"\n",
        "print(\"Trying with PDB id which is in the information block:\")\n",
        "PDB_id_8cau_info = get_entry_info(\"8cau\", example_summary)\n",
        "pprint.pprint(PDB_id_8cau_info)\n",
        "\n",
        "print()\n",
        "\n",
        "# Check the object we have made is Python data type dictionary.\n",
        "type_of_obj = type(PDB_id_8cau_info)\n",
        "print(\"The data type for the object we have defined is\", type_of_obj)\n",
        "\n",
        "# Report the 'keys' present in the object we have made.\n",
        "keys_in_obj = PDB_id_8cau_info.keys()\n",
        "print(\"The keys present in the object we have defined are\", keys_in_obj)\n",
        "\n",
        "# Report the number of keys present in the object we have made.\n",
        "number_of_keys_in_obj = len(PDB_id_8cau_info)\n",
        "print(\"The number of keys present in the object we have defined are\", number_of_keys_in_obj)"
      ]
    },
    {
      "cell_type": "code",
      "execution_count": null,
      "metadata": {
        "id": "LyvJ385U9sGU"
      },
      "outputs": [],
      "source": [
        "# The dictionary we have made in the previous code block is a more complex example of a Python dictionary object.\n",
        "\n",
        "# Getting value directly using key:\n",
        "print(\"Getting value directly: \", PDB_id_8cau_info[\"experimental_method\"])\n",
        "\n",
        "print()\n",
        "\n",
        "# Getting value using a function:\n",
        "print(\"Getting value using function: \", get_value(\"experimental_method\", input_information=PDB_id_8cau_info))"
      ]
    },
    {
      "cell_type": "markdown",
      "metadata": {
        "id": "7R2ceJp56Ui6"
      },
      "source": [
        "#### 2.2c) Getting summary information for an entry (still using mock data)\n",
        "\n",
        "Let's write a function that can be used to write a brief summary of a PDB entry\n",
        "\n",
        "Please note, that certain calls could return multiple PDB entries (*i.e.* POST calls), but the GET summary call we use in this exercise will always return only one PDB entry"
      ]
    },
    {
      "cell_type": "code",
      "execution_count": null,
      "metadata": {
        "id": "jvyVHDMs6Ui6"
      },
      "outputs": [],
      "source": [
        "# The below functions work to returns the information for this id in a summary format.\n",
        "\n",
        "def make_entry_summary(pdb_id,input_information):\n",
        "    entry_information = get_entry_info(pdb_id,input_information)\n",
        "\n",
        "    # Getting the title of the entry\n",
        "    title = get_value(\"title\", entry_information)\n",
        "\n",
        "    # Getting the release date of the entry\n",
        "    release_date = get_value(\"release_date\", entry_information)\n",
        "    # Formatting the release data to make it more user-friendly\n",
        "    formatted_release_date = \"{}/{}/{}\".format(release_date[:4], release_date[4:6], release_date[6:])\n",
        "\n",
        "    # Getting the experimental methods\n",
        "    # Because there can be multiple methods, so this is a list that\n",
        "    # needs to be iterated\n",
        "    experimental_methods = \"\"\n",
        "    for experimental_method in get_value(\"experimental_method\", entry_information):\n",
        "        if experimental_methods:\n",
        "            experimental_methods += \" and \"\n",
        "        experimental_methods += experimental_method\n",
        "\n",
        "    # Creating the summary text using all the extracted information\n",
        "    summary = (\"Entry is titled \" + title + \" was released on \" + formatted_release_date + \". \")\n",
        "    summary += (\"This entry was determined using \" + experimental_methods + \".\")\n",
        "    return summary\n",
        "\n",
        "print(make_entry_summary(\"8cau\",example_summary))"
      ]
    },
    {
      "cell_type": "markdown",
      "metadata": {
        "id": "c-YZAyTw6Ui7"
      },
      "source": [
        "## 3) Switching to real API data\n",
        "\n",
        "Finally, we will start using the PDBe API to make real calls to get data for any PDB entry of interest\n",
        "\n",
        "First, we need a function to communicate with the API\n",
        "\n",
        "Making calls over the network is more expensive than getting data from a mock dictionary, so we will include an additional check before making the call: we will check if the PDB id in the pdb_id argument is a valid id that matches the PDB id pattern\n",
        "\n",
        "We will be using a functions from the Python package **re** and **request** in the function we will define below."
      ]
    },
    {
      "cell_type": "code",
      "execution_count": null,
      "metadata": {
        "id": "Sv88qHwy6Ui7"
      },
      "outputs": [],
      "source": [
        "# This function will make a call to the PDBe API using the PDB id and API url provided as arguments.\n",
        "def get_entry_from_api(pdb_id, api_url):\n",
        "\n",
        "    # Check the PDB id is formatted correctly\n",
        "    if not re.match(\"[0-9][A-Za-z][A-Za-z0-9]{2}\", pdb_id):\n",
        "        print(\"Invalid PDB id\")\n",
        "        return None\n",
        "\n",
        "    # Make a GET call to the API URL\n",
        "    get_request = requests.get(url=api_url+pdb_id)\n",
        "\n",
        "    if get_request.status_code == 200:\n",
        "        # If there is data returned (with HTML status code 200)\n",
        "        # then return the data in JSON format\n",
        "        return get_request.json()\n",
        "    else:\n",
        "        # If there is no data, print status code and response\n",
        "        print(get_request.status_code, get_request.text)\n",
        "        return None\n",
        "\n",
        "# Try our GET function with an invalid PDB id\n",
        "print(\"Trying to GET data with invalid PDB id:\")\n",
        "print(get_entry_from_api(\"whatever\", summary_url))\n",
        "print()\n",
        "\n",
        "# Try our GET function with a valid PDB id\n",
        "print(\"Trying to GET data with valid PDB id:\")\n",
        "pprint.pprint(get_entry_from_api(\"8cau\", summary_url))\n",
        "\n",
        "print()\n",
        "\n",
        "print(make_entry_summary(\"8cau\",get_entry_from_api(\"8cau\", summary_url)))\n",
        "\n",
        "# As you can hopefully see, the data displayed is very similar to\n",
        "# what we had in the mock data in previous sections - however,\n",
        "# this is actual data coming from the PDBe API\n"
      ]
    },
    {
      "cell_type": "markdown",
      "source": [
        "\n",
        "### PRACTICE:\n",
        "\n",
        "### Please take the output from the above code cell and copy-and-paste it into the below code cell.\n",
        "\n",
        "### Run the code to generate a set of summaries.\n",
        "\n",
        "\n"
      ],
      "metadata": {
        "id": "mwEADW6uygym"
      }
    },
    {
      "cell_type": "markdown",
      "metadata": {
        "id": "E1kl2XF16Ui8"
      },
      "source": [
        "As you can hopefully see, the data displayed is very similar to what we had in the mock data in previous sections - however, this is actual data coming from the PDBe API"
      ]
    },
    {
      "cell_type": "markdown",
      "metadata": {
        "id": "ZEglE_vH6Ui8"
      },
      "source": [
        "## 4) Trying the make_entry_summary() function with real API data\n",
        "\n",
        "We can to use our make_summary() function on real API data - All we need to do is to change the argument (data) we are passing into it"
      ]
    },
    {
      "cell_type": "code",
      "execution_count": null,
      "metadata": {
        "id": "LCtuwmCu6Ui9"
      },
      "outputs": [],
      "source": [
        "print(\"Example #1: 8cau\")\n",
        "print(make_entry_summary(\"8cau\",get_entry_from_api(\"8cau\", summary_url)))\n",
        "print()\n",
        "print(\"Example #2: 8ci1\")\n",
        "print(make_entry_summary(\"8ci1\",get_entry_from_api(\"8ci1\", summary_url)))\n",
        "print()\n",
        "print(\"Example #3: 8c9x\")\n",
        "print(make_entry_summary(\"8c9x\",get_entry_from_api(\"8c9x\", summary_url)))\n",
        "print()\n",
        "print(\"Example #4: 8ce4\")\n",
        "print(make_entry_summary(\"8ce4\",get_entry_from_api(\"8ce4\", summary_url)))\n",
        "print()\n",
        "print(\"Example #5: 7u61\")\n",
        "print(make_entry_summary(\"7u61\",get_entry_from_api(\"7u61\", summary_url)))\n",
        "print()\n",
        "print(\"Example #6: 2n63\")\n",
        "print(make_entry_summary(\"2n63\",get_entry_from_api(\"2n63\", summary_url)))"
      ]
    },
    {
      "cell_type": "markdown",
      "metadata": {
        "id": "DqsagAjEmnrY"
      },
      "source": [
        "## 5) Further applications with real API data\n",
        "\n",
        "Getting the resolution for an entry is another simple example of using PDBe APIs.\n",
        "\n",
        "---\n",
        "\n",
        "*FURTHER INFORMATION:*\n",
        "\n",
        "The information block below can also be generated using the json file that is available from URLs below:\n",
        "\n",
        "*   https://www.ebi.ac.uk/pdbe/api/pdb/entry/experiment/8cau\n",
        "*   https://www.ebi.ac.uk/pdbe/api/pdb/entry/experiment/7u61"
      ]
    },
    {
      "cell_type": "code",
      "execution_count": null,
      "metadata": {
        "id": "4IChlxfWnDtj"
      },
      "outputs": [],
      "source": [
        "# Try our GET function wwith different api endpoint & a valid PDB id for a structure determined by Electron Microscopy\n",
        "print(\"Trying to GET data with valid PDB id:\")\n",
        "pprint.pprint(get_entry_from_api(\"8cau\", experiment_url))\n",
        "print()\n",
        "print()\n",
        "print(\"Resolution is\", get_value(\"resolution\",(get_entry_info(\"8cau\",(get_entry_from_api(\"8cau\", experiment_url))))), \"Angstrom.\")"
      ]
    },
    {
      "cell_type": "code",
      "execution_count": null,
      "metadata": {
        "id": "za8JJb_TJ8Xz"
      },
      "outputs": [],
      "source": [
        "# Try our GET function with different api endpoint & a valid PDB id for a structure determined by X-ray crystallography\n",
        "print(\"Trying to GET data with valid PDB id:\")\n",
        "pprint.pprint(get_entry_from_api(\"8cau\", experiment_url))\n",
        "print()\n",
        "print()\n",
        "print(\"Resolution is\", get_value(\"resolution\",(get_entry_info(\"8cau\",(get_entry_from_api(\"8cau\", experiment_url))))), \"Angstrom.\")"
      ]
    },
    {
      "cell_type": "markdown",
      "source": [
        "We can get this type of information for any entry."
      ],
      "metadata": {
        "id": "Kib6iDSIt5xN"
      }
    },
    {
      "cell_type": "code",
      "execution_count": null,
      "metadata": {
        "id": "2czMQbdPubo_"
      },
      "outputs": [],
      "source": [
        "print(\"Example #1: 8cau\")\n",
        "print(make_entry_summary(\"8cau\",get_entry_from_api(\"8cau\", summary_url)))\n",
        "print(\"Resolution is\", get_value(\"resolution\",(get_entry_info(\"8cau\",(get_entry_from_api(\"8cau\", experiment_url))))), \"Angstrom.\")\n",
        "print()\n",
        "print(\"Example #2: 8ci1\")\n",
        "print(make_entry_summary(\"8ci1\",get_entry_from_api(\"8ci1\", summary_url)))\n",
        "print(\"Resolution is\", get_value(\"resolution\",(get_entry_info(\"8ci1\",(get_entry_from_api(\"8ci1\", experiment_url))))), \"Angstrom.\")\n",
        "print()\n",
        "print(\"Example #3: 8c9x\")\n",
        "print(make_entry_summary(\"8c9x\",get_entry_from_api(\"8c9x\", summary_url)))\n",
        "print(\"Resolution is\", get_value(\"resolution\",(get_entry_info(\"8c9x\",(get_entry_from_api(\"8c9x\", experiment_url))))), \"Angstrom.\")\n",
        "print()\n",
        "print(\"Example #4: 8ce4\")\n",
        "print(make_entry_summary(\"8ce4\",get_entry_from_api(\"8ce4\", summary_url)))\n",
        "print(\"Resolution is\", get_value(\"resolution\",(get_entry_info(\"8ce4\",(get_entry_from_api(\"8ce4\", experiment_url))))), \"Angstrom.\")\n",
        "print()\n",
        "print(\"Example #5: 7u61\")\n",
        "print(make_entry_summary(\"7u61\",get_entry_from_api(\"7u61\", summary_url)))\n",
        "print(\"Resolution is\", get_value(\"resolution\",(get_entry_info(\"7u61\",(get_entry_from_api(\"7u61\", experiment_url))))), \"Angstrom.\")\n",
        "print()\n",
        "print(\"Example #6: 2n63\")\n",
        "print(make_entry_summary(\"2n63\",get_entry_from_api(\"2n63\", summary_url)))\n",
        "print(\"Resolution is\", get_value(\"resolution\",(get_entry_info(\"2n63\",(get_entry_from_api(\"2n63\", experiment_url))))), \"Angstrom.\")"
      ]
    },
    {
      "cell_type": "markdown",
      "source": [
        "## 6) Summary\n",
        "\n",
        "In this notebook we have coverted information from an API call into a Python object that is a dictionary data-type.\n",
        "\n",
        "<br>\n",
        "\n",
        "We have made 4 Python functions / definitions / methods to help get and navigate the information from PDBe API calls:\n",
        "\n",
        "*   **get_value()**\n",
        "\n",
        "    *- gets the value that corresponds to a key in a dictionary*\n",
        "\n",
        "    *- output is a string*\n",
        "\n",
        "*   **get_entry_from_api()**\n",
        "\n",
        "    *- will make a GET call to the PDBe API using the PDB id and API url as arguments*\n",
        "\n",
        "    *- output is a dictionary*\n",
        "\n",
        "*   **get_entry_info()**\n",
        "    \n",
        "    *- gets the data from an information block that corresponds to a PDB id*\n",
        "\n",
        "    *- if id is not found, it print an error message and returns 'None'*\n",
        "\n",
        "    *- takes output from **get_entry_from_api** as input*\n",
        "\n",
        "    *- uses **get_value** function as part of the method*\n",
        "\n",
        "    *- output is a dictionary*\n",
        "\n",
        "*   **make_entry_summary()**\n",
        "\n",
        "    *- creates a summary for a PDB entry.*\n",
        "\n",
        "    *- takes output from **get_entry_from_api** as input*\n",
        "    \n",
        "    *- uses **get_value** function as part of the method*\n",
        "\n",
        "    *- output is a string*\n",
        "\n",
        "<br>\n",
        "\n",
        "We have shown how one can write a 'print' statement that pulls information from a dictionary by specifying a key and displays the value that corresponds to that key on the screen. The **get_value** function can also be used to do this and is more easily incorporated into complex blocks of Python code.\n"
      ],
      "metadata": {
        "id": "naDYx_L6o4Hy"
      }
    },
    {
      "cell_type": "markdown",
      "source": [
        "## 7) Insight to help making your own notebooks\n",
        "\n",
        "When you are building new notebooks using PDBe's API calls there are some helpful ways to view what data is available.\n",
        "\n",
        "One option to view what data available is to access JSON files by URLs, *e.g.*:\n",
        "*   https://www.ebi.ac.uk/pdbe/api/pdb/entry/summary/8cau\n",
        "*   https://www.ebi.ac.uk/pdbe/api/pdb/entry/summary/7u61\n",
        "*   https://www.ebi.ac.uk/pdbe/api/pdb/entry/experiment/8cau\n",
        "*   https://www.ebi.ac.uk/pdbe/api/pdb/entry/experiment/7u61\n",
        "\n",
        "Another option available is here: https://www.ebi.ac.uk/pdbe/api/doc/pdb.html\n",
        "\n",
        "You can look at API call results by using the webinterface we have provided.\n",
        "\n",
        "On this webpage one can generate a API call by clicking the grey **'Run Call'** button with the PDB id that is loaded by default or changing it to a PDB id of your choosing. This will reveal the data structure of what the API call will generate and enable you to decide how you will use Python code to handle the output."
      ],
      "metadata": {
        "id": "q6-LgbPrQYwJ"
      }
    },
    {
      "cell_type": "markdown",
      "source": [
        "## 8) EXERCISE: Input your own list of PDB ids, run API calls and generate summaries."
      ],
      "metadata": {
        "id": "6hVFRlagesPm"
      }
    },
    {
      "cell_type": "markdown",
      "source": [
        "### 8.1) Make a list_to_summary() function to generate multiple API calls for summaries for a list of PDB ids:\n",
        "\n",
        "The Python function below takes a PDB id list as an argument and makes Python code that we can use as input in another code cell.\n",
        "\n",
        "The Python code we will generate will enable multiple 'GET' queries and generate multiple short summary statements.\n",
        "\n",
        "In next notebook (*Notebook #2*) we will look into 'POST' queries.\n",
        "\n",
        "'POST' queries are better than 'GET' queries for handling list of PDB ids.\n",
        "\n",
        "However 'GET' can also be used with lists of PDB ids as this exercise will demonstrate.\n"
      ],
      "metadata": {
        "id": "-YeJMF0dW2W8"
      }
    },
    {
      "cell_type": "code",
      "source": [
        "# New function to generate Python code that will run muliple 'GET' queries\n",
        "# The output from this function will need to be copy-and-pasted into another code cell.\n",
        "def list_to_summaries(pdb_ids):\n",
        "    # Check the PDB id is formatted correctly\n",
        "    pdb_ids = pdb_ids\n",
        "    indexes = range(1, len(pdb_ids)+1)\n",
        "\n",
        "    for number, pdb_id in zip(indexes, pdb_ids):\n",
        "        print(f\"print(\\\"Example #{number}: {pdb_id}\\\")\")\n",
        "        print(f\"print(make_entry_summary(\\\"{pdb_id}\\\",get_entry_from_api(\\\"{pdb_id}\\\", summary_url)))\")\n",
        "        print(f\"print(\\\"Resolution is\\\", get_value(\\\"resolution\\\",get_entry_info(\\\"{pdb_id}\\\",get_entry_from_api(\\\"{pdb_id}\\\", experiment_url))), \\\"Angstrom\\\")\")\n",
        "        print(f\"print()\")\n",
        "\n",
        "# You can replace the content inside the square brackets with PDB IDs for entries that interest you.\n",
        "# Please put \"\" marks around each id to indicate that this is 'string' input.\n",
        "pdb_id_list = [\"8cau\", \"8ci1\", \"8c9x\", \"8ce4\", \"7u61\", \"2n63\"]\n",
        "list_to_summaries(pdb_id_list)"
      ],
      "metadata": {
        "id": "kxP4iXy-W2CP"
      },
      "execution_count": null,
      "outputs": []
    },
    {
      "cell_type": "markdown",
      "source": [
        "\n",
        "### PRACTICE:\n",
        "\n",
        "### Please take the output from the above code cell (Ctrl+A, then Ctrl+C).\n",
        "### Paste it (Ctrl+V) into the below code cell.\n",
        "\n",
        "### Run the code to generate a set of summaries.\n",
        "\n",
        "\n"
      ],
      "metadata": {
        "id": "04dBd6H90_Tp"
      }
    },
    {
      "cell_type": "code",
      "source": [
        "# Copy-and-paste the code from above output here:\n"
      ],
      "metadata": {
        "id": "eq1CMH7m0-6A"
      },
      "execution_count": null,
      "outputs": []
    },
    {
      "cell_type": "markdown",
      "source": [
        "### 8.2) Generate a csv output from a PDBe search\n",
        "\n",
        "In the code we will be running in section 8.4 can use any comma-seperated list of PDB ids.\n",
        "\n",
        "These lists are often found in *Data Availablity* statements in publications.\n",
        "\n",
        "We can also generate a list by performing a search of a favorite or interesting chemical  or protein *via* the [PDBe searchbar](https://www.pdbe.org/).\n",
        "\n",
        "For example, type 'nicotine' in the [PDBe searchbar](https://www.pdbe.org/) and select the appropriate option from the curated set of options in the pop-up.\n",
        "\n",
        "The below image shows how to utilize the [PDBe searchbar](https://www.pdbe.org/):\n",
        "\n",
        "<img src=\"https://github.com/glevans/7ADD-workshop-2024/blob/main/Images/Protein_Data_Bank_in_Europe_eg_nicotine.png?raw=true\" height=\"350\" align=\"center\">\n",
        "\n",
        "<br>\n",
        "\n",
        "From the results generated one can download list of PDB ids in csv file.\n",
        "\n",
        "The below image shows how to do this.\n",
        "\n",
        "<img src=\"https://github.com/glevans/7ADD-workshop-2024/blob/main/Images/Protein_Data_Bank_in_Europe_eg_nicotine2.png?raw=true\" height=\"300\" align=\"center\">\n",
        "\n",
        "<br>\n",
        "<br>\n",
        "\n",
        "---\n",
        "\n",
        "*FURTHER INFORMATION:*\n",
        "\n",
        "A key aspect of using PDBe searchbar is NOT to treat it like Google searchbar and partial type a word and press enter.\n",
        "\n",
        "The best way to use the PDBe searchbar is to look at what options appear in the pop-up and then click on the appropriate option."
      ],
      "metadata": {
        "id": "GiEkziGiekkh"
      }
    },
    {
      "cell_type": "markdown",
      "source": [
        "The downloaded CSV file needs to be placed in a folder structure so it is accessible by this notebook.\n",
        "\n",
        "In Colab:\n",
        "\n",
        "1.   Click the folder-shaped icon <img src=\"https://github.com/glevans/7ADD-workshop-2024/blob/main/Images/Folder_icon.png?raw=true\" height=\"20\"> on the left-side of the screen.\n",
        "2.   Click on the upload-document icon <img src=\"https://github.com/glevans/7ADD-workshop-2024/blob/main/Images/Upload-file_icon.png?raw=true\" height=\"25\"> that pops up and upload the file into the folder space associated with this notebook."
      ],
      "metadata": {
        "id": "dlS2QQnu3Ja7"
      }
    },
    {
      "cell_type": "markdown",
      "source": [
        "### 8.3) Convert the csv output from a PDBe search into a comma-seperated listed\n",
        "\n",
        "The below code will take the PDBe_search.csv file and convert it into comma-seperated list and stores as variable named 'new_pdb_id_list'."
      ],
      "metadata": {
        "id": "a-xhvFQXs-3Y"
      }
    },
    {
      "cell_type": "code",
      "source": [
        "# Convert the csv file to a python object and then convert the column with PDB ids into list\n",
        "with open('PDBe_search.csv', 'r') as file:\n",
        "    reader = csv.reader(file)\n",
        "    column_1 = [(row[0]) for row in reader]\n",
        "\n",
        "# Check for whether list item matches the format of a PDB id and only keeps PDB ids in the list\n",
        "new_pdb_id_list = []\n",
        "for row in column_1:\n",
        "    if re.match(\"[0-9][A-Za-z][A-Za-z0-9]{2}\", row):\n",
        "        new_pdb_id_list.append(row)\n",
        "    else:\n",
        "      continue\n",
        "\n",
        "# Check for duplicates in the list and removes them\n",
        "new_pdb_id_list = list(dict.fromkeys(new_pdb_id_list ))\n",
        "\n",
        "print(column_1)\n",
        "print(new_pdb_id_list)"
      ],
      "metadata": {
        "id": "k4Nk6qCzUgHo"
      },
      "execution_count": null,
      "outputs": []
    },
    {
      "cell_type": "markdown",
      "source": [
        "### 8.4) Generate short summaries for PDB ids from PDBe search results\n",
        "\n",
        "The below code will take the variable named 'new_pdb_id_list' and use"
      ],
      "metadata": {
        "id": "FN42v5oOUgxh"
      }
    },
    {
      "cell_type": "code",
      "source": [
        "# This code cell takes the list of PDB ids from the PDBe search.\n",
        "# The code below will generate the output that can be copy and pasted into the next code block.\n",
        "list_to_summaries(new_pdb_id_list)"
      ],
      "metadata": {
        "id": "6KsyvkwEcClt"
      },
      "execution_count": null,
      "outputs": []
    },
    {
      "cell_type": "markdown",
      "source": [
        "\n",
        "### PRACTICE:\n",
        "\n",
        "### Please take the output from the above code cell and copy-and-paste it into the below code cell.\n",
        "\n",
        "### Run the code to generate a set of summaries.\n",
        "\n",
        "\n"
      ],
      "metadata": {
        "id": "1avLm7Ybw_nj"
      }
    },
    {
      "cell_type": "code",
      "source": [
        "# Copy-and-paste the code from above output here:\n"
      ],
      "metadata": {
        "id": "NigGa1zsUcuH"
      },
      "execution_count": 16,
      "outputs": []
    },
    {
      "cell_type": "markdown",
      "metadata": {
        "id": "vaDd3el86Ui9"
      },
      "source": [
        "## This ends the first notebook - please proceed to other notebooks of your interest"
      ]
    },
    {
      "cell_type": "markdown",
      "metadata": {
        "id": "VQLcMuNE6Ui-"
      },
      "source": [
        "Copyright 2024 EMBL - European Bioinformatics Institute\n",
        "\n",
        "Licensed under the Apache License, Version 2.0 (the \"License\"); you may not use this file except in compliance with the License. You may obtain a copy of the License at http://www.apache.org/licenses/LICENSE-2.0\n",
        "\n",
        "Unless required by applicable law or agreed to in writing, software distributed under the License is distributed on an \"AS IS\" BASIS, WITHOUT WARRANTIES OR CONDITIONS OF ANY KIND, either express or implied. See the License for the specific language governing permissions and limitations under the License."
      ]
    }
  ],
  "metadata": {
    "kernelspec": {
      "display_name": "Python 3",
      "language": "python",
      "name": "python3"
    },
    "language_info": {
      "codemirror_mode": {
        "name": "ipython",
        "version": 3
      },
      "file_extension": ".py",
      "mimetype": "text/x-python",
      "name": "python",
      "nbconvert_exporter": "python",
      "pygments_lexer": "ipython3",
      "version": "3.7.0"
    },
    "colab": {
      "provenance": [],
      "include_colab_link": true
    }
  },
  "nbformat": 4,
  "nbformat_minor": 0
}